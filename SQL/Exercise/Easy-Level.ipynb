{
 "cells": [
  {
   "cell_type": "markdown",
   "id": "8946cb9d",
   "metadata": {},
   "source": [
    "# [Revising the Select Query I](https://www.hackerrank.com/challenges/revising-the-select-query/problem?isFullScreen=true)\n",
    "\n",
    "Query all columns for all American cities in the **CITY** table with populations larger than 100000. The **CountryCode** for America is USA.\n",
    "\n",
    "The **CITY** table is described as follows:\n",
    "<img src=\"https://s3.amazonaws.com/hr-challenge-images/8137/1449729804-f21d187d0f-CITY.jpg\">"
   ]
  },
  {
   "cell_type": "code",
   "execution_count": null,
   "id": "e3d1eb26",
   "metadata": {},
   "outputs": [],
   "source": [
    "SELECT * FROM CITY WHERE COUNTRYCODE='USA' AND POPULATION>100000;"
   ]
  },
  {
   "cell_type": "markdown",
   "id": "8b156d26",
   "metadata": {},
   "source": [
    "# [Revising the Select Query II](https://www.hackerrank.com/challenges/revising-the-select-query-2/problem?isFullScreen=true)\n",
    "\n",
    "Query the **NAME** field for all American cities in the **CITY** table with populations larger than 120000. The **CountryCode** for America is USA.\n",
    "\n",
    "The **CITY** table is described as follows:\n",
    "<img src=\"https://s3.amazonaws.com/hr-challenge-images/8137/1449729804-f21d187d0f-CITY.jpg\">"
   ]
  },
  {
   "cell_type": "code",
   "execution_count": null,
   "id": "3e58a486",
   "metadata": {},
   "outputs": [],
   "source": [
    "SELECT NAME FROM CITY WHERE COUNTRYCODE='USA' AND POPULATION>120000;"
   ]
  },
  {
   "cell_type": "markdown",
   "id": "b0047793",
   "metadata": {},
   "source": [
    "# [Select All](https://www.hackerrank.com/challenges/select-all-sql/problem?isFullScreen=true)\n",
    "\n",
    "Query all columns (attributes) for every row in the **CITY** table.\n",
    "\n",
    "The **CITY** table is described as follows:\n",
    "<img src='https://s3.amazonaws.com/hr-challenge-images/8137/1449729804-f21d187d0f-CITY.jpg'>"
   ]
  },
  {
   "cell_type": "code",
   "execution_count": null,
   "id": "66e59684",
   "metadata": {},
   "outputs": [],
   "source": [
    "SELECT * FROM CITY;"
   ]
  },
  {
   "cell_type": "markdown",
   "id": "cd4319cb",
   "metadata": {},
   "source": [
    "# [Select By ID](https://www.hackerrank.com/challenges/select-by-id/problem?isFullScreen=true)\n",
    "\n",
    "Query all columns for a city in **CITY** with the ID 1661.\n",
    "\n",
    "The **CITY** table is described as follows:\n",
    "<img src='https://s3.amazonaws.com/hr-challenge-images/8137/1449729804-f21d187d0f-CITY.jpg'>"
   ]
  },
  {
   "cell_type": "code",
   "execution_count": null,
   "id": "5aaa550a",
   "metadata": {},
   "outputs": [],
   "source": [
    "SELECT * FROM CITY WHERE ID=1661;"
   ]
  },
  {
   "cell_type": "markdown",
   "id": "4b1e8cb6",
   "metadata": {},
   "source": [
    "# [Japanese Cities' Attributes](https://www.hackerrank.com/challenges/japanese-cities-attributes/problem?isFullScreen=true)\n",
    "\n",
    "Query all attributes of every Japanese city in the **CITY** table. The **COUNTRYCODE** for Japan is JPN.\n",
    "\n",
    "The **CITY** table is described as follows:\n",
    "<img src='https://s3.amazonaws.com/hr-challenge-images/8137/1449729804-f21d187d0f-CITY.jpg'>"
   ]
  },
  {
   "cell_type": "code",
   "execution_count": null,
   "id": "8c453a8c",
   "metadata": {},
   "outputs": [],
   "source": [
    "SELECT * FROM CITY WHERE COUNTRYCODE='JPN';"
   ]
  },
  {
   "cell_type": "markdown",
   "id": "4262135d",
   "metadata": {},
   "source": [
    "# [Japanese Cities' Names](https://www.hackerrank.com/challenges/japanese-cities-name/problem?isFullScreen=true)\n",
    "\n",
    "Query the names of all the Japanese cities in the **CITY** table. The **COUNTRYCODE** for Japan is JPN.\n",
    "\n",
    "The **CITY** table is described as follows:\n",
    "<img src='https://s3.amazonaws.com/hr-challenge-images/8137/1449729804-f21d187d0f-CITY.jpg'>"
   ]
  },
  {
   "cell_type": "code",
   "execution_count": null,
   "id": "9a3010c0",
   "metadata": {},
   "outputs": [],
   "source": [
    "SELECT NAME FROM CITY WHERE COUNTRYCODE='JPN';"
   ]
  },
  {
   "cell_type": "markdown",
   "id": "0644e194",
   "metadata": {},
   "source": [
    "# [Weather Observation Station 1](https://www.hackerrank.com/challenges/weather-observation-station-1/problem?isFullScreen=true)\n",
    "\n",
    "Query a list of **CITY** and **STATE** from the **STATION** table.\n",
    "\n",
    "The **STATION** table is described as follows:\n",
    "<img src='https://s3.amazonaws.com/hr-challenge-images/9336/1449345840-5f0a551030-Station.jpg'>\n",
    "where **LAT_N** is the northern latitude and **LONG_W** is the western longitude."
   ]
  },
  {
   "cell_type": "code",
   "execution_count": null,
   "id": "5a73347e",
   "metadata": {},
   "outputs": [],
   "source": [
    "SELECT CITY, STATE FROM STATION;"
   ]
  },
  {
   "cell_type": "markdown",
   "id": "e14d9c66",
   "metadata": {},
   "source": [
    "# [Weather Observation Station 3](https://www.hackerrank.com/challenges/weather-observation-station-3/problem?isFullScreen=true)\n",
    "\n",
    "Query a list of **CITY** names from **STATION** for cities that have an even **ID** number. Print the results in any order, but exclude duplicates from the answer.\n",
    "\n",
    "The **STATION** table is described as follows:\n",
    "<img src='https://s3.amazonaws.com/hr-challenge-images/9336/1449345840-5f0a551030-Station.jpg'>\n",
    "where **LAT_N** is the northern latitude and **LONG_W** is the western longitude."
   ]
  },
  {
   "cell_type": "code",
   "execution_count": null,
   "id": "da7211b8",
   "metadata": {},
   "outputs": [],
   "source": [
    "select distinct CITY from STATION where mod(ID,2) = 0;"
   ]
  },
  {
   "cell_type": "markdown",
   "id": "b0dbe67d",
   "metadata": {},
   "source": [
    "# [Weather Observation Station 4](https://www.hackerrank.com/challenges/weather-observation-station-4/problem?isFullScreen=true)\n",
    "\n",
    "Find the difference between the total number of **CITY** entries in the table and the number of distinct **CITY** entries in the table.\n",
    "\n",
    "The **STATION** table is described as follows:\n",
    "<img src='https://s3.amazonaws.com/hr-challenge-images/9336/1449345840-5f0a551030-Station.jpg'>\n",
    "where **LAT_N** is the northern latitude and **LONG_W** is the western longitude.\n",
    "\n",
    "For example, if there are three records in the table with **CITY** values 'New York', 'New York', 'Bengalaru', there are 2 different city names: 'New York' and 'Bengalaru'. The query returns **1**, because<br>\n",
    "**total number of records - number of unique city names = 3-2 = 1**."
   ]
  },
  {
   "cell_type": "code",
   "execution_count": null,
   "id": "41ed0982",
   "metadata": {},
   "outputs": [],
   "source": [
    "SELECT COUNT(CITY)-COUNT(DISTINCT CITY) FROM STATION;"
   ]
  },
  {
   "cell_type": "markdown",
   "id": "b67c12d0",
   "metadata": {},
   "source": [
    "# [Weather Observation Station 5](https://www.hackerrank.com/challenges/weather-observation-station-5/problem?isFullScreen=true)\n",
    "\n",
    "Query the two cities in **STATION** with the shortest and longest **CITY** names, as well as their respective lengths (i.e.: number of characters in the name). If there is more than one smallest or largest city, choose the one that comes first when ordered alphabetically.\n",
    "\n",
    "The **STATION** table is described as follows:\n",
    "<img src='https://s3.amazonaws.com/hr-challenge-images/9336/1449345840-5f0a551030-Station.jpg'>\n",
    "where **LAT_N** is the northern latitude and **LONG_W** is the western longitude.\n",
    "\n",
    "**Sample Input**\n",
    "\n",
    "For example, **CITY** has four entries: **DEF, ABC, PQRS** and **WXY**.\n",
    "\n",
    "**Sample Output**<br>\n",
    "ABC 3<br>\n",
    "PQRS 4\n",
    "\n",
    "**Explanation**\n",
    "\n",
    "When ordered alphabetically, the **CITY** names are listed as **ABC, DEF, PQRS,** and **WXY**, with lengths **3, 3, 4,** and **3**. The longest name is **PQRS**, but there are **3** options for shortest named city. Choose **ABC**, because it comes first alphabetically.\n",
    "\n",
    "**Note**<br>\n",
    "You can write two separate queries to get the desired output. It need not be a single query."
   ]
  },
  {
   "cell_type": "code",
   "execution_count": null,
   "id": "d3ccd823",
   "metadata": {},
   "outputs": [],
   "source": [
    "SELECT CITY,LENGTH(CITY) FROM STATION ORDER BY Length(CITY), CITY LIMIT 1; \n",
    "SELECT CITY,LENGTH(CITY) FROM STATION ORDER BY Length(CITY) DESC, CITY LIMIT 1; "
   ]
  },
  {
   "cell_type": "markdown",
   "id": "023b24a1",
   "metadata": {},
   "source": [
    "# [Weather Observation Station 6](https://www.hackerrank.com/challenges/weather-observation-station-6/problem?isFullScreen=true)\n",
    "\n",
    "Query the list of **CITY** names starting with vowels (i.e., a, e, i, o, or u) from **STATION**. Your result cannot contain duplicates.\n",
    "\n",
    "**Input Format**\n",
    "\n",
    "The **STATION** table is described as follows:\n",
    "<img src='https://s3.amazonaws.com/hr-challenge-images/9336/1449345840-5f0a551030-Station.jpg'>\n",
    "where **LAT_N** is the northern latitude and **LONG_W** is the western longitude."
   ]
  },
  {
   "cell_type": "code",
   "execution_count": null,
   "id": "8110a0f8",
   "metadata": {},
   "outputs": [],
   "source": [
    "SELECT DISTINCT CITY FROM STATION\n",
    "WHERE CITY LIKE 'A%' OR CITY LIKE 'E%' OR CITY LIKE 'I%' OR CITY LIKE 'O%' OR CITY LIKE 'U%';"
   ]
  },
  {
   "cell_type": "markdown",
   "id": "a38ba38c",
   "metadata": {},
   "source": [
    "# [Weather Observation Station 7](https://www.hackerrank.com/challenges/weather-observation-station-7/problem?isFullScreen=true)\n",
    "Query the list of **CITY** names ending with vowels (a, e, i, o, u) from **STATION**. Your result cannot contain duplicates.\n",
    "\n",
    "**Input Format**\n",
    "\n",
    "The **STATION** table is described as follows:\n",
    "<img src='https://s3.amazonaws.com/hr-challenge-images/9336/1449345840-5f0a551030-Station.jpg'>\n",
    "where **LAT_N** is the northern latitude and **LONG_W** is the western longitude."
   ]
  },
  {
   "cell_type": "code",
   "execution_count": null,
   "id": "6786b6e6",
   "metadata": {},
   "outputs": [],
   "source": [
    "SELECT DISTINCT CITY FROM STATION \n",
    "WHERE CITY LIKE '%A' OR CITY LIKE '%E' OR CITY LIKE '%I' OR CITY LIKE '%O' OR CITY LIKE '%U';"
   ]
  },
  {
   "cell_type": "markdown",
   "id": "1bf0a4a5",
   "metadata": {},
   "source": [
    "# [Weather Observation Station 8](https://www.hackerrank.com/challenges/weather-observation-station-8/problem?isFullScreen=true)\n",
    "\n",
    "Query the list of **CITY** names from **STATION** which have vowels (i.e., a, e, i, o, and u) as both their first and last characters. Your result cannot contain duplicates.\n",
    "\n",
    "**Input Format**\n",
    "\n",
    "The **STATION** table is described as follows:\n",
    "<img src='https://s3.amazonaws.com/hr-challenge-images/9336/1449345840-5f0a551030-Station.jpg'>\n",
    "where **LAT_N** is the northern latitude and **LONG_W** is the western longitude."
   ]
  },
  {
   "cell_type": "code",
   "execution_count": null,
   "id": "e10d25bf",
   "metadata": {},
   "outputs": [],
   "source": [
    "SELECT DISTINCT CITY FROM STATION WHERE\n",
    "(\n",
    "    CITY LIKE 'A%' OR CITY LIKE 'E%' OR CITY LIKE 'I%' OR CITY LIKE 'O%' OR CITY LIKE 'U%'\n",
    ") \n",
    "AND\n",
    "(\n",
    "    CITY LIKE '%a' OR CITY LIKE '%e' OR CITY LIKE '%i' OR CITY LIKE '%o' OR CITY LIKE '%u'\n",
    ");"
   ]
  },
  {
   "cell_type": "markdown",
   "id": "b328a3ec",
   "metadata": {},
   "source": [
    "# [Weather Observation Station 9](https://www.hackerrank.com/challenges/weather-observation-station-9/problem?isFullScreen=true)\n",
    "\n",
    "Query the list of **CITY** names from **STATION** that do not start with vowels. Your result cannot contain duplicates.\n",
    "\n",
    "**Input Format**\n",
    "\n",
    "The **STATION** table is described as follows:\n",
    "<img src='https://s3.amazonaws.com/hr-challenge-images/9336/1449345840-5f0a551030-Station.jpg'>\n",
    "where **LAT_N** is the northern latitude and **LONG_W** is the western longitude."
   ]
  },
  {
   "cell_type": "code",
   "execution_count": null,
   "id": "36a0be9f",
   "metadata": {},
   "outputs": [],
   "source": [
    "SELECT DISTINCT CITY FROM STATION \n",
    "WHERE CITY NOT LIKE 'A%' AND CITY NOT LIKE 'E%' AND CITY NOT LIKE 'I%' AND CITY NOT LIKE 'O%' AND CITY NOT LIKE 'U%' \n",
    "ORDER BY CITY;"
   ]
  },
  {
   "cell_type": "markdown",
   "id": "74fea4e0",
   "metadata": {},
   "source": [
    "# [Weather Observation Station 10](https://www.hackerrank.com/challenges/weather-observation-station-10/problem?isFullScreen=true)\n",
    "\n",
    "Query the list of **CITY** names from **STATION** that do not end with vowels. Your result cannot contain duplicates.\n",
    "\n",
    "**Input Format**\n",
    "\n",
    "The **STATION** table is described as follows:\n",
    "<img src='https://s3.amazonaws.com/hr-challenge-images/9336/1449345840-5f0a551030-Station.jpg'>\n",
    "where **LAT_N** is the northern latitude and **LONG_W** is the western longitude."
   ]
  },
  {
   "cell_type": "code",
   "execution_count": null,
   "id": "5663215d",
   "metadata": {},
   "outputs": [],
   "source": [
    "SELECT DISTINCT CITY FROM STATION \n",
    "WHERE CITY NOT LIKE '%a' AND CITY NOT LIKE '%e' AND CITY NOT LIKE '%i' AND CITY NOT LIKE '%o' AND CITY NOT LIKE '%u';"
   ]
  },
  {
   "cell_type": "markdown",
   "id": "ad88e6a4",
   "metadata": {},
   "source": [
    "# [Weather Observation Station 11](https://www.hackerrank.com/challenges/weather-observation-station-11/problem?isFullScreen=true)\n",
    "\n",
    "Query the list of **CITY** names from **STATION** that either do not start with vowels or do not end with vowels. Your result cannot contain duplicates.\n",
    "\n",
    "**Input Format**\n",
    "\n",
    "The **STATION** table is described as follows:\n",
    "<img src='https://s3.amazonaws.com/hr-challenge-images/9336/1449345840-5f0a551030-Station.jpg'>\n",
    "where **LAT_N** is the northern latitude and **LONG_W** is the western longitude."
   ]
  },
  {
   "cell_type": "code",
   "execution_count": null,
   "id": "86adbd09",
   "metadata": {},
   "outputs": [],
   "source": [
    "SELECT DISTINCT CITY FROM STATION \n",
    "WHERE (CITY NOT LIKE 'A%' AND CITY NOT LIKE 'E%' AND CITY NOT LIKE 'I%' AND CITY NOT LIKE 'O%' AND CITY NOT LIKE 'U%') \n",
    "OR (CITY NOT LIKE '%a' AND CITY NOT LIKE '%e' AND CITY NOT LIKE '%i' AND CITY NOT LIKE '%o' AND CITY NOT LIKE '%u');"
   ]
  },
  {
   "cell_type": "markdown",
   "id": "9d35ad2e",
   "metadata": {},
   "source": [
    "# [Weather Observation Station 12](https://www.hackerrank.com/challenges/weather-observation-station-12/problem?isFullScreen=true)\n",
    "\n",
    "Query the list of **CITY** names from **STATION** that do not start with vowels and do not end with vowels. Your result cannot contain duplicates.\n",
    "\n",
    "**Input Format**\n",
    "\n",
    "The **STATION** table is described as follows:\n",
    "<img src='https://s3.amazonaws.com/hr-challenge-images/9336/1449345840-5f0a551030-Station.jpg'>\n",
    "where **LAT_N** is the northern latitude and **LONG_W** is the western longitude."
   ]
  },
  {
   "cell_type": "code",
   "execution_count": null,
   "id": "25151b24",
   "metadata": {},
   "outputs": [],
   "source": [
    "SELECT DISTINCT CITY FROM STATION \n",
    "WHERE (CITY NOT LIKE 'A%' AND CITY NOT LIKE 'E%' AND CITY NOT LIKE 'I%' AND CITY NOT LIKE 'O%' AND CITY NOT LIKE 'U%') \n",
    "AND (CITY NOT LIKE '%a' AND CITY NOT LIKE '%e' AND CITY NOT LIKE '%i' AND CITY NOT LIKE '%o' AND CITY NOT LIKE '%u');"
   ]
  },
  {
   "cell_type": "markdown",
   "id": "717aeb43",
   "metadata": {},
   "source": [
    "# [Higher Than 75 Marks](https://www.hackerrank.com/challenges/more-than-75-marks/problem?isFullScreen=true)\n",
    "\n",
    "Query the Name of any student in **STUDENTS** who scored higher than **75** Marks. Order your output by the last three characters of each name. If two or more students both have names ending in the same last three characters (i.e.: Bobby, Robby, etc.), secondary sort them by ascending ID.\n",
    "\n",
    "**Input Format**\n",
    "\n",
    "The **STUDENTS** table is described as follows:\n",
    "<img src='https://s3.amazonaws.com/hr-challenge-images/12896/1443815243-94b941f556-1.png'>\n",
    "The Name column only contains uppercase (A-Z) and lowercase (a-z) letters.\n",
    "\n",
    "**Sample Input**\n",
    "<img src='https://s3.amazonaws.com/hr-challenge-images/12896/1443815209-cf4b260993-2.png'>\n",
    "**Sample Output**<br>\n",
    "Ashley<br>\n",
    "Julia<br>\n",
    "Belvet\n",
    "\n",
    "**Explanation**<br>\n",
    "Only Ashley, Julia, and Belvet have Marks > **75**. If you look at the last three characters of each of their names, there are no duplicates and 'ley' < 'lia' < 'vet'."
   ]
  },
  {
   "cell_type": "code",
   "execution_count": null,
   "id": "20825136",
   "metadata": {},
   "outputs": [],
   "source": [
    "SELECT Name FROM STUDENTS WHERE Marks>75 ORDER BY RIGHT(Name, 3), ID;"
   ]
  },
  {
   "cell_type": "markdown",
   "id": "3e797bfb",
   "metadata": {},
   "source": [
    "# [Employee Names](https://www.hackerrank.com/challenges/name-of-employees/problem?isFullScreen=true)\n",
    "\n",
    "Write a query that prints a list of employee names (i.e.: the name attribute) from the **Employee** table in alphabetical order.\n",
    "\n",
    "**Input Format**\n",
    "\n",
    "The **Employee** table containing employee data for a company is described as follows:\n",
    "<img src='https://s3.amazonaws.com/hr-challenge-images/19629/1458557872-4396838885-ScreenShot2016-03-21at4.27.13PM.png'>\n",
    "where employee_id is an employee's ID number, name is their name, months is the total number of months they've been working for the company, and salary is their monthly salary.\n",
    "\n",
    "**Sample Input**\n",
    "<img src='https://s3.amazonaws.com/hr-challenge-images/19629/1458558202-9a8721e44b-ScreenShot2016-03-21at4.32.59PM.png'>\n",
    "**Sample Output**\n",
    "\n",
    "Angela<br>\n",
    "Bonnie<br>\n",
    "Frank<br>\n",
    "Joe<br>\n",
    "Kimberly<br>\n",
    "Lisa<br>\n",
    "Michael<br>\n",
    "Patrick<br>\n",
    "Rose<br>\n",
    "Todd"
   ]
  },
  {
   "cell_type": "code",
   "execution_count": null,
   "id": "347ce146",
   "metadata": {},
   "outputs": [],
   "source": [
    "SELECT name FROM Employee ORDER BY name;"
   ]
  },
  {
   "cell_type": "markdown",
   "id": "a6361f57",
   "metadata": {},
   "source": [
    "# [Employee Salaries](https://www.hackerrank.com/challenges/salary-of-employees/problem?isFullScreen=true)\n",
    "\n",
    "Write a query that prints a list of employee names (i.e.: the name attribute) for employees in **Employee** having a salary greater than **$2000** per month who have been employees for less than **10** months. Sort your result by ascending employee_id.\n",
    "\n",
    "**Input Format**\n",
    "\n",
    "The **Employee** table containing employee data for a company is described as follows:\n",
    "<img src='https://s3.amazonaws.com/hr-challenge-images/19629/1458557872-4396838885-ScreenShot2016-03-21at4.27.13PM.png'>\n",
    "where employee_id is an employee's ID number, name is their name, months is the total number of months they've been working for the company, and salary is the their monthly salary.\n",
    "\n",
    "**Sample Input**\n",
    "<img src='https://s3.amazonaws.com/hr-challenge-images/19630/1458558612-af3da3ceb7-ScreenShot2016-03-21at4.32.59PM.png'>\n",
    "**Sample Output**<br>\n",
    "Angela<br>\n",
    "Michael<br>\n",
    "Todd<br>\n",
    "Joe\n",
    "\n",
    "**Explanation**\n",
    "\n",
    "Angela has been an employee for **1** month and earns **$3443** per month.\n",
    "\n",
    "Michael has been an employee for **6** months and earns **$2017** per month.\n",
    "\n",
    "Todd has been an employee for **5** months and earns **$3396** per month.\n",
    "\n",
    "Joe has been an employee for **9** months and earns **$3573** per month.\n",
    "\n",
    "We order our output by ascending employee_id."
   ]
  },
  {
   "cell_type": "code",
   "execution_count": null,
   "id": "d24e704c",
   "metadata": {},
   "outputs": [],
   "source": [
    "SELECT name FROM Employee WHERE salary>2000 AND months<10 ORDER BY employee_id;"
   ]
  },
  {
   "cell_type": "markdown",
   "id": "3bb06d23",
   "metadata": {},
   "source": [
    "# [Type of Triangle](https://www.hackerrank.com/challenges/what-type-of-triangle/problem?isFullScreen=true)\n",
    "\n",
    "Write a query identifying the type of each record in the **TRIANGLES** table using its three side lengths. Output one of the following statements for each record in the table:\n",
    "* **Equilateral**: It's a triangle with  sides of equal length.\n",
    "* **Isosceles**: It's a triangle with  sides of equal length.\n",
    "* **Scalene**: It's a triangle with  sides of differing lengths.\n",
    "* **Not A Triangle**: The given values of A, B, and C don't form a triangle.\n",
    "\n",
    "**Input Format**\n",
    "\n",
    "The **TRIANGLES** table is described as follows:\n",
    "<img src='https://s3.amazonaws.com/hr-challenge-images/12887/1443815629-ac2a843fb7-1.png'>\n",
    "Each row in the table denotes the lengths of each of a triangle's three sides.\n",
    "\n",
    "**Sample Input**\n",
    "<img src='https://s3.amazonaws.com/hr-challenge-images/12887/1443815827-cbfc1ca12b-2.png'>\n",
    "**Sample Output**<br>\n",
    "Isosceles<br>\n",
    "Equilateral<br>\n",
    "Scalene<br>\n",
    "Not A Triangle\n",
    "\n",
    "**Explanation**<br>\n",
    "Values in the tuple **(20,20,23)** form an Isosceles triangle, because **A≡B**.<br>\n",
    "Values in the tuple **(20,20,20)** form an Equilateral triangle, because **A≡B≡C**.<br>\n",
    "Values in the tuple **(20,21,22)** form a Scalene triangle, because **A≠B≠C**.<br>\n",
    "Values in the tuple **(13,14,30)** cannot form a triangle because the combined value of sides **A** and **B** is not larger than that of side **C**."
   ]
  },
  {
   "cell_type": "code",
   "execution_count": null,
   "id": "bafa8206",
   "metadata": {},
   "outputs": [],
   "source": [
    "SELECT CASE\n",
    "    WHEN\n",
    "        (A + B) <= C OR\n",
    "        (B + C) <= A OR\n",
    "        (C + A) <= B\n",
    "        THEN 'Not A Triangle'\n",
    "    WHEN\n",
    "        A = B AND B = C AND C =A\n",
    "        THEN 'Equilateral'\n",
    "    WHEN\n",
    "        A = B AND B != C OR\n",
    "        B = C AND B != A OR\n",
    "        C = A AND B != A\n",
    "        THEN 'Isosceles'\n",
    "    ELSE 'Scalene' END\n",
    "FROM TRIANGLES;"
   ]
  },
  {
   "cell_type": "markdown",
   "id": "49e3885c",
   "metadata": {},
   "source": [
    "# [Revising Aggregations - The Count Function](https://www.hackerrank.com/challenges/revising-aggregations-the-count-function/problem?isFullScreen=true)\n",
    "\n",
    "Query a count of the number of cities in **CITY** having a Population larger than **100,000**.\n",
    "\n",
    "**Input Format**\n",
    "\n",
    "The **CITY** table is described as follows:\n",
    "<img src='https://s3.amazonaws.com/hr-challenge-images/8137/1449729804-f21d187d0f-CITY.jpg'>"
   ]
  },
  {
   "cell_type": "code",
   "execution_count": null,
   "id": "9e3098fe",
   "metadata": {},
   "outputs": [],
   "source": [
    "SELECT COUNT(NAME) FROM CITY WHERE POPULATION>100000;"
   ]
  }
 ],
 "metadata": {
  "kernelspec": {
   "display_name": "Python 3 (ipykernel)",
   "language": "python",
   "name": "python3"
  },
  "language_info": {
   "codemirror_mode": {
    "name": "ipython",
    "version": 3
   },
   "file_extension": ".py",
   "mimetype": "text/x-python",
   "name": "python",
   "nbconvert_exporter": "python",
   "pygments_lexer": "ipython3",
   "version": "3.9.16"
  }
 },
 "nbformat": 4,
 "nbformat_minor": 5
}
