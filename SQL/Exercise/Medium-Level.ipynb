{
 "cells": [
  {
   "cell_type": "markdown",
   "id": "f5efa2ad",
   "metadata": {},
   "source": [
    "# [The PADS](https://www.hackerrank.com/challenges/the-pads/problem?isFullScreen=true)\n",
    "\n",
    "Generate the following two result sets:\n",
    "\n",
    "1. Query an alphabetically ordered list of all names in **OCCUPATIONS**, immediately followed by the first letter of each profession as a parenthetical (i.e.: enclosed in parentheses). For example: `AnActorName(A)`, `ADoctorName(D)`, `AProfessorName(P)`, and `ASingerName(S)`.\n",
    "2. Query the number of ocurrences of each occupation in **OCCUPATIONS**. Sort the occurrences in ascending order, and output them in the following format:\n",
    "\n",
    "`There are a total of [occupation_count] [occupation]s.`\n",
    "\n",
    "where `[occupation_count]` is the number of occurrences of an occupation in **OCCUPATIONS** and `[occupation]` is the lowercase occupation name. If more than one Occupation has the same `[occupation_count]`, they should be ordered alphabetically.\n",
    "\n",
    "**Note:** There will be at least two entries in the table for each type of occupation.\n",
    "\n",
    "**Input Format**\n",
    "\n",
    "The **OCCUPATIONS** table is described as follows:\n",
    "<img src='https://s3.amazonaws.com/hr-challenge-images/12889/1443816414-2a465532e7-1.png'>\n",
    "Occupation will only contain one of the following values: **Doctor, Professor, Singer** or **Actor**.\n",
    "\n",
    "**Sample Input**\n",
    "\n",
    "An **OCCUPATIONS** table that contains the following records:\n",
    "<img src='https://s3.amazonaws.com/hr-challenge-images/12889/1443816608-0b4d01d157-2.png'>\n",
    "**Sample Output**<br>\n",
    "`Ashely(P)`<br>\n",
    "`Christeen(P)`<br>\n",
    "`Jane(A)`<br>\n",
    "`Jenny(D)`<br>\n",
    "`Julia(A)`<br>\n",
    "`Ketty(P)`<br>\n",
    "`Maria(A)`<br>\n",
    "`Meera(S)`<br>\n",
    "`Priya(S)`<br>\n",
    "`Samantha(D)`<br>\n",
    "`There are a total of 2 doctors.`<br>\n",
    "`There are a total of 2 singers.`<br>\n",
    "`There are a total of 3 actors.`<br>\n",
    "`There are a total of 3 professors.`\n",
    "\n",
    "**Explanation**\n",
    "\n",
    "The results of the first query are formatted to the problem description's specifications.\n",
    "The results of the second query are ascendingly ordered first by number of names corresponding to each profession **(2<=2<=3<=3)**, and then alphabetically by profession (**doctor<=singer**, and **actor<=professor**)."
   ]
  },
  {
   "cell_type": "code",
   "execution_count": null,
   "id": "2b27bdbf",
   "metadata": {},
   "outputs": [],
   "source": [
    "SELECT CONCAT(Name, '(', LEFT(Occupation, 1), ')') FROM OCCUPATIONS ORDER BY Name;\n",
    "\n",
    "SELECT CONCAT('There are a total of ', COUNT(Occupation), ' ', LOWER(Occupation), 's.')\n",
    "FROM OCCUPATIONS GROUP BY Occupation ORDER BY COUNT(Occupation), Occupation;"
   ]
  },
  {
   "cell_type": "markdown",
   "id": "757697f0",
   "metadata": {},
   "source": [
    "# [Weather Observation Station 18](https://www.hackerrank.com/challenges/weather-observation-station-18/problem?isFullScreen=true)\n",
    "\n",
    "Consider **P<sub>1</sub>(a,b)** and **P<sub>2</sub>(c,d)** to be two points on a 2D plane.\n",
    "* **a** happens to equal the minimum value in Northern Latitude (LAT_N in **STATION**).\n",
    "* **b** happens to equal the minimum value in Western Longitude (LONG_W in **STATION**).\n",
    "* **c** happens to equal the maximum value in Northern Latitude (LAT_N in **STATION**).\n",
    "* **d** happens to equal the maximum value in Western Longitude (LONG_W in **STATION**).\n",
    "\n",
    "Query the [Manhattan Distance](https://xlinux.nist.gov/dads/HTML/manhattanDistance.html) between points **P<sub>1</sub>** and **P<sub>2</sub>** and round it to a scale of **4** decimal places.\n",
    "\n",
    "**Input Format**\n",
    "\n",
    "The **STATION** table is described as follows:\n",
    "<img src='https://s3.amazonaws.com/hr-challenge-images/9336/1449345840-5f0a551030-Station.jpg'>\n",
    "where **LAT_N** is the northern latitude and **LONG_W** is the western longitude."
   ]
  },
  {
   "cell_type": "code",
   "execution_count": null,
   "id": "9192520b",
   "metadata": {},
   "outputs": [],
   "source": [
    "SELECT ROUND(\n",
    "    ABS(\n",
    "        MIN(LAT_N) - MAX(LAT_N)\n",
    "    )+\n",
    "    ABS(\n",
    "        MIN(LONG_W) - MAX(LONG_W)\n",
    "    )\n",
    "    , 4)\n",
    "FROM STATION;"
   ]
  },
  {
   "cell_type": "markdown",
   "id": "e01d5391",
   "metadata": {},
   "source": [
    "# [Weather Observation Station 19](https://www.hackerrank.com/challenges/weather-observation-station-19/problem?isFullScreen=true)\n",
    "\n",
    "Consider **P<sub>1</sub>(a,c)** and **P<sub>2</sub>(b,d)** to be two points on a 2D plane where **(a,b)** are the respective minimum and maximum values of Northern Latitude (LAT_N) and **(c,d)** are the respective minimum and maximum values of Western Longitude (LONG_W) in **STATION**.\n",
    "\n",
    "Query the [Euclidean Distance](https://en.wikipedia.org/wiki/Euclidean_distance) between points **P<sub>1</sub>** and **P<sub>2</sub>** and format your answer to display **4** decimal digits.\n",
    "\n",
    "**Input Format**\n",
    "\n",
    "The **STATION** table is described as follows:\n",
    "<img src='https://s3.amazonaws.com/hr-challenge-images/9336/1449345840-5f0a551030-Station.jpg'>\n",
    "where **LAT_N** is the northern latitude and **LONG_W** is the western longitude."
   ]
  },
  {
   "cell_type": "code",
   "execution_count": null,
   "id": "7af25660",
   "metadata": {},
   "outputs": [],
   "source": [
    "SELECT ROUND(\n",
    "    SQRT(\n",
    "        POWER(\n",
    "            (MAX(LAT_N) - MIN(LAT_N))\n",
    "            , 2\n",
    "        ) + \n",
    "        POWER(\n",
    "            (MAX(LONG_W) - MIN(LONG_W))\n",
    "            , 2\n",
    "        )\n",
    "    )\n",
    "    , 4\n",
    ")\n",
    "FROM STATION;"
   ]
  },
  {
   "cell_type": "markdown",
   "id": "d89857b0",
   "metadata": {},
   "source": [
    "# [The Report](https://www.hackerrank.com/challenges/the-report/problem?h_r=profile&isFullScreen=true)\n",
    "\n",
    "You are given two tables: Students and Grades. Students contains three columns ID, Name and Marks.\n",
    "<img src='https://s3.amazonaws.com/hr-challenge-images/12891/1443818166-a5c852caa0-1.png'>\n",
    "Grades contains the following data:\n",
    "<img src='https://s3.amazonaws.com/hr-challenge-images/12891/1443818137-69b76d805c-2.png'>\n",
    "Ketty gives Eve a task to generate a report containing three columns: Name, Grade and Mark. Ketty doesn't want the NAMES of those students who received a grade lower than 8. The report must be in descending order by grade -- i.e. higher grades are entered first. If there is more than one student with the same grade (8-10) assigned to them, order those particular students by their name alphabetically. Finally, if the grade is lower than 8, use \"NULL\" as their name and list them by their grades in descending order. If there is more than one student with the same grade (1-7) assigned to them, order those particular students by their marks in ascending order.\n",
    "\n",
    "Write a query to help Eve.\n",
    "\n",
    "**Sample Input**\n",
    "<img src='https://s3.amazonaws.com/hr-challenge-images/12891/1443818093-b79f376ec1-3.png'>\n",
    "**Sample Output**\n",
    "\n",
    ">`Maria 10 99`<br>\n",
    "`Jane 9 81`<br>\n",
    "`Julia 9 88`<br>\n",
    "`Scarlet 8 78`<br>\n",
    "`NULL 7 63`<br>\n",
    "`NULL 7 68`\n",
    "\n",
    "**Note**\n",
    "\n",
    "Print \"NULL\"  as the name if the grade is less than 8.\n",
    "\n",
    "**Explanation**\n",
    "\n",
    "Consider the following table with the grades assigned to the students:\n",
    "<img src='https://s3.amazonaws.com/hr-challenge-images/12891/1443818026-0b3af8db30-4.png'>\n",
    "So, the following students got 8, 9 or 10 grades:\n",
    "* Maria (grade 10)\n",
    "* Jane (grade 9)\n",
    "* Julia (grade 9)\n",
    "* Scarlet (grade 8)"
   ]
  },
  {
   "cell_type": "code",
   "execution_count": null,
   "id": "a787eb77",
   "metadata": {},
   "outputs": [],
   "source": [
    "SELECT CASE\n",
    "    WHEN Grades.Grade < 8 THEN NULL\n",
    "    ELSE Students.Name\n",
    "END,\n",
    "Grades.Grade, Students.Marks\n",
    "FROM Students\n",
    "JOIN Grades ON Students.Marks BETWEEN Grades.Min_Mark AND Grades.Max_Mark\n",
    "ORDER BY Grades.Grade DESC, Students.Name ASC;"
   ]
  },
  {
   "cell_type": "markdown",
   "id": "2b37a1ab",
   "metadata": {},
   "source": [
    "# [Weather Observation Station 20](https://www.hackerrank.com/challenges/weather-observation-station-20/problem?h_r=profile&isFullScreen=true)\n",
    "\n",
    "A [median](https://en.wikipedia.org/wiki/Median) is defined as a number separating the higher half of a data set from the lower half. Query the median of the Northern Latitudes (LAT_N) from **STATION** and round your answer to **4** decimal places.\n",
    "\n",
    "**Input Format**\n",
    "\n",
    "The **STATION** table is described as follows:\n",
    "<img src='https://s3.amazonaws.com/hr-challenge-images/9336/1449345840-5f0a551030-Station.jpg'>\n",
    "where **LAT_N** is the northern latitude and **LONG_W** is the western longitude."
   ]
  },
  {
   "cell_type": "code",
   "execution_count": null,
   "id": "413b7930",
   "metadata": {},
   "outputs": [],
   "source": [
    "select round(lat_n,4) from station\n",
    "order by lat_n asc limit 1 offset 249;"
   ]
  },
  {
   "cell_type": "markdown",
   "id": "62e45c0e",
   "metadata": {},
   "source": [
    "# [Binary Tree Nodes](https://www.hackerrank.com/challenges/binary-search-tree-1/problem?h_r=profile&isFullScreen=true)\n",
    "\n",
    "You are given a table, BST, containing two columns: N and P, where N represents the value of a node in Binary Tree, and P is the parent of N.\n",
    "<img src='https://s3.amazonaws.com/hr-challenge-images/12888/1443818507-5095ab9853-1.png'>\n",
    "Write a query to find the node type of Binary Tree ordered by the value of the node. Output one of the following for each node:\n",
    "* Root: If node is root node.\n",
    "* Leaf: If node is leaf node.\n",
    "* Inner: If node is neither root nor leaf node.\n",
    "\n",
    "**Sample Input**\n",
    "<img src='https://s3.amazonaws.com/hr-challenge-images/12888/1443818467-30644673f6-2.png'>\n",
    "\n",
    "**Sample Output**\n",
    "\n",
    "`1 Leaf`<br>\n",
    "`2 Inner`<br>\n",
    "`3 Leaf`<br>\n",
    "`5 Root`<br>\n",
    "`6 Leaf`<br>\n",
    "`8 Inner`<br>\n",
    "`9 Leaf`\n",
    "\n",
    "**Explanation**\n",
    "\n",
    "The Binary Tree below illustrates the sample:\n",
    "<img src='https://s3.amazonaws.com/hr-challenge-images/12888/1443773633-f9e6fd314e-simply_sql_bst.png'>"
   ]
  },
  {
   "cell_type": "code",
   "execution_count": null,
   "id": "1f6ac072",
   "metadata": {},
   "outputs": [],
   "source": [
    "SELECT N, CASE\n",
    "    WHEN P IS NULL THEN 'Root'\n",
    "    WHEN N IN (SELECT P FROM BST) THEN 'Inner'\n",
    "    ELSE 'Leaf'\n",
    "    END\n",
    "FROM BST\n",
    "ORDER BY N;"
   ]
  }
 ],
 "metadata": {
  "kernelspec": {
   "display_name": "Python 3 (ipykernel)",
   "language": "python",
   "name": "python3"
  },
  "language_info": {
   "codemirror_mode": {
    "name": "ipython",
    "version": 3
   },
   "file_extension": ".py",
   "mimetype": "text/x-python",
   "name": "python",
   "nbconvert_exporter": "python",
   "pygments_lexer": "ipython3",
   "version": "3.9.16"
  }
 },
 "nbformat": 4,
 "nbformat_minor": 5
}
