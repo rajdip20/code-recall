{
 "cells": [
  {
   "cell_type": "markdown",
   "id": "38b2144b",
   "metadata": {},
   "source": [
    "# 1. If-elif-else Statements"
   ]
  },
  {
   "cell_type": "code",
   "execution_count": 1,
   "id": "b8bd6783",
   "metadata": {},
   "outputs": [
    {
     "name": "stdout",
     "output_type": "stream",
     "text": [
      "Enter your email: abc@gmail.com\n",
      "Enter your password: 1234\n",
      "Welcome\n"
     ]
    }
   ],
   "source": [
    "# correct email abc@gmail.com\n",
    "# correct password 1234\n",
    "\n",
    "email = input('Enter your email: ')\n",
    "password = input('Enter your password: ')\n",
    "\n",
    "if email == 'abc@gmail.com' and password == '1234':\n",
    "    print('Welcome')\n",
    "elif email == 'abc@gmail.com' and password != '1234':\n",
    "    print('Incorrect Password')\n",
    "    password = input('Enter your password agein: ')\n",
    "    if password == '1234':\n",
    "        print('Welcome finally')\n",
    "    else:\n",
    "        print('Still incorrect')\n",
    "else:\n",
    "    print('Incorrect Email and Password')"
   ]
  },
  {
   "cell_type": "markdown",
   "id": "b41a4377",
   "metadata": {},
   "source": [
    "# 2. Loops\n",
    "- While\n",
    "- For"
   ]
  },
  {
   "cell_type": "code",
   "execution_count": 2,
   "id": "08aa4d3f",
   "metadata": {
    "scrolled": true
   },
   "outputs": [
    {
     "name": "stdout",
     "output_type": "stream",
     "text": [
      "1\n",
      "2\n",
      "3\n",
      "4\n",
      "5\n",
      "6\n",
      "7\n",
      "8\n",
      "9\n",
      "10\n"
     ]
    }
   ],
   "source": [
    "# while loop\n",
    "i = 1\n",
    "while i<11:\n",
    "    print(i)\n",
    "    i = i + 1"
   ]
  },
  {
   "cell_type": "code",
   "execution_count": 3,
   "id": "26ae3c05",
   "metadata": {
    "scrolled": true
   },
   "outputs": [
    {
     "name": "stdout",
     "output_type": "stream",
     "text": [
      "1\n",
      "2\n",
      "3\n",
      "4\n",
      "5\n",
      "6\n",
      "7\n",
      "8\n",
      "9\n",
      "10\n"
     ]
    }
   ],
   "source": [
    "# For loop\n",
    "for i in range(1,11):\n",
    "    print(i)"
   ]
  },
  {
   "cell_type": "code",
   "execution_count": 4,
   "id": "5a6f4191",
   "metadata": {},
   "outputs": [
    {
     "name": "stdout",
     "output_type": "stream",
     "text": [
      "1\n",
      "3\n",
      "5\n",
      "7\n",
      "9\n"
     ]
    }
   ],
   "source": [
    "for i in range(1,11,2):\n",
    "    print(i)"
   ]
  },
  {
   "cell_type": "code",
   "execution_count": 5,
   "id": "9c8889a0",
   "metadata": {},
   "outputs": [
    {
     "name": "stdout",
     "output_type": "stream",
     "text": [
      "10\n",
      "9\n",
      "8\n",
      "7\n",
      "6\n",
      "5\n",
      "4\n",
      "3\n",
      "2\n",
      "1\n"
     ]
    }
   ],
   "source": [
    "for i in range(10,0,-1):\n",
    "    print(i)"
   ]
  },
  {
   "cell_type": "code",
   "execution_count": 6,
   "id": "ba295d41",
   "metadata": {},
   "outputs": [
    {
     "name": "stdout",
     "output_type": "stream",
     "text": [
      "K\n",
      "o\n",
      "l\n",
      "k\n",
      "a\n",
      "t\n",
      "a\n"
     ]
    }
   ],
   "source": [
    "for i in 'Kolkata':\n",
    "    print(i)"
   ]
  },
  {
   "cell_type": "code",
   "execution_count": 7,
   "id": "f6974f3f",
   "metadata": {},
   "outputs": [
    {
     "name": "stdout",
     "output_type": "stream",
     "text": [
      "1\n",
      "2\n",
      "3\n",
      "4\n",
      "5\n"
     ]
    }
   ],
   "source": [
    "for i in [1,2,3,4,5]:\n",
    "    print(i)"
   ]
  },
  {
   "cell_type": "code",
   "execution_count": 8,
   "id": "1c3bf41f",
   "metadata": {},
   "outputs": [
    {
     "name": "stdout",
     "output_type": "stream",
     "text": [
      "Goa\n",
      "Goa\n",
      "Goa\n",
      "Goa\n",
      "Goa\n"
     ]
    }
   ],
   "source": [
    "for i in 'Delhi':\n",
    "    print('Goa')"
   ]
  },
  {
   "cell_type": "markdown",
   "id": "1d1f9313",
   "metadata": {},
   "source": [
    "# 3. Importing Libraries"
   ]
  },
  {
   "cell_type": "code",
   "execution_count": 9,
   "id": "fc890375",
   "metadata": {},
   "outputs": [],
   "source": [
    "import math"
   ]
  },
  {
   "cell_type": "code",
   "execution_count": 10,
   "id": "68e6e44d",
   "metadata": {},
   "outputs": [
    {
     "data": {
      "text/plain": [
       "24"
      ]
     },
     "execution_count": 10,
     "metadata": {},
     "output_type": "execute_result"
    }
   ],
   "source": [
    "math.factorial(4)"
   ]
  },
  {
   "cell_type": "code",
   "execution_count": 11,
   "id": "481a84f8",
   "metadata": {},
   "outputs": [],
   "source": [
    "import random"
   ]
  },
  {
   "cell_type": "code",
   "execution_count": 12,
   "id": "d1e25098",
   "metadata": {},
   "outputs": [
    {
     "data": {
      "text/plain": [
       "2"
      ]
     },
     "execution_count": 12,
     "metadata": {},
     "output_type": "execute_result"
    }
   ],
   "source": [
    "random.randint(1, 10)"
   ]
  },
  {
   "cell_type": "markdown",
   "id": "da2cfa21",
   "metadata": {},
   "source": [
    "Q. Make a guessing game with random number between 1 to 100"
   ]
  },
  {
   "cell_type": "code",
   "execution_count": 13,
   "id": "ef9e4fa4",
   "metadata": {},
   "outputs": [
    {
     "name": "stdout",
     "output_type": "stream",
     "text": [
      "Guess remaining: 7\n",
      "Enter your guess: 50\n",
      "Enter a smaller value\n",
      "Guess remaining: 6\n",
      "Enter your guess: 30\n",
      "Enter a smaller value\n",
      "Guess remaining: 5\n",
      "Enter your guess: 20\n",
      "Enter a smaller value\n",
      "Guess remaining: 4\n",
      "Enter your guess: 10\n",
      "Enter a smaller value\n",
      "Guess remaining: 3\n",
      "Enter your guess: 5\n",
      "Enter a greater value\n",
      "Guess remaining: 2\n",
      "Enter your guess: 7\n",
      "Enter a smaller value\n",
      "Guess remaining: 1\n",
      "Enter your guess: 6\n",
      "Correct!\n",
      "Guess remaining: 0\n"
     ]
    }
   ],
   "source": [
    "import random\n",
    "num = random.randint(1, 100)\n",
    "\n",
    "i = 1\n",
    "print('Guess remaining: 7')\n",
    "while i<8:\n",
    "    guess = int(input('Enter your guess: '))\n",
    "    if guess == num:\n",
    "        print('Correct!')\n",
    "    elif guess > num:\n",
    "        print('Enter a smaller value')\n",
    "    elif guess < num:\n",
    "        print('Enter a greater value')\n",
    "    print(f'Guess remaining: {7-i}')\n",
    "    i = i + 1"
   ]
  },
  {
   "cell_type": "markdown",
   "id": "daa22758",
   "metadata": {},
   "source": [
    "# 4. Break, Continue and Pass"
   ]
  },
  {
   "cell_type": "code",
   "execution_count": 18,
   "id": "c87eb58a",
   "metadata": {},
   "outputs": [
    {
     "name": "stdout",
     "output_type": "stream",
     "text": [
      "1\n",
      "2\n",
      "3\n",
      "4\n"
     ]
    }
   ],
   "source": [
    "# Break\n",
    "for i in range(1,11):\n",
    "    if i==5:\n",
    "        break\n",
    "    print(i)"
   ]
  },
  {
   "cell_type": "markdown",
   "id": "8d4b62fc",
   "metadata": {},
   "source": [
    "Where would you use break statement?\n",
    "- Linear Searching"
   ]
  },
  {
   "cell_type": "code",
   "execution_count": 19,
   "id": "3a223bc1",
   "metadata": {},
   "outputs": [
    {
     "name": "stdout",
     "output_type": "stream",
     "text": [
      "1\n",
      "2\n",
      "3\n",
      "4\n",
      "6\n",
      "7\n",
      "8\n",
      "9\n",
      "10\n"
     ]
    }
   ],
   "source": [
    "# Continue\n",
    "for i in range(1,11):\n",
    "    if i==5:\n",
    "        continue\n",
    "    print(i)"
   ]
  },
  {
   "cell_type": "code",
   "execution_count": 20,
   "id": "bfa13ca2",
   "metadata": {},
   "outputs": [],
   "source": [
    "# Pass\n",
    "for i in range(1,11):\n",
    "    pass"
   ]
  },
  {
   "cell_type": "code",
   "execution_count": null,
   "id": "29ff0725",
   "metadata": {},
   "outputs": [],
   "source": []
  }
 ],
 "metadata": {
  "kernelspec": {
   "display_name": "Python 3 (ipykernel)",
   "language": "python",
   "name": "python3"
  },
  "language_info": {
   "codemirror_mode": {
    "name": "ipython",
    "version": 3
   },
   "file_extension": ".py",
   "mimetype": "text/x-python",
   "name": "python",
   "nbconvert_exporter": "python",
   "pygments_lexer": "ipython3",
   "version": "3.9.13"
  }
 },
 "nbformat": 4,
 "nbformat_minor": 5
}
