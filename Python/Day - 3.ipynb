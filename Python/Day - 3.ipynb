{
 "cells": [
  {
   "cell_type": "markdown",
   "id": "343db6c1",
   "metadata": {},
   "source": [
    "# 1. Strings\n",
    "- Create\n",
    "- Access\n",
    "- Edit\n",
    "- Delete\n",
    "- Operations\n",
    "- Functions"
   ]
  },
  {
   "cell_type": "code",
   "execution_count": 1,
   "id": "9ee5f74a",
   "metadata": {},
   "outputs": [
    {
     "name": "stdout",
     "output_type": "stream",
     "text": [
      "\n"
     ]
    }
   ],
   "source": [
    "# Creating\n",
    "str1 = ''\n",
    "print(str1)"
   ]
  },
  {
   "cell_type": "code",
   "execution_count": 2,
   "id": "69fdc8f1",
   "metadata": {},
   "outputs": [
    {
     "name": "stdout",
     "output_type": "stream",
     "text": [
      "Kolkata\n"
     ]
    }
   ],
   "source": [
    "str2 = 'Kolkata'\n",
    "print(str2)"
   ]
  },
  {
   "cell_type": "markdown",
   "id": "a5ffcbbd",
   "metadata": {},
   "source": [
    "For a string we can use 'string', \"string\", '''string''', \"\"\"string\"\"\""
   ]
  },
  {
   "cell_type": "code",
   "execution_count": 3,
   "id": "021a6765",
   "metadata": {},
   "outputs": [
    {
     "name": "stdout",
     "output_type": "stream",
     "text": [
      "\n",
      "This is a\n",
      "multi-line\n",
      "string\n",
      "\n"
     ]
    }
   ],
   "source": [
    "str3 = '''\n",
    "This is a\n",
    "multi-line\n",
    "string\n",
    "'''\n",
    "print(str3)"
   ]
  },
  {
   "cell_type": "code",
   "execution_count": 4,
   "id": "35a8caf8",
   "metadata": {},
   "outputs": [
    {
     "name": "stdout",
     "output_type": "stream",
     "text": [
      "Kolkata\n"
     ]
    }
   ],
   "source": [
    "str4 = str(\"Kolkata\")\n",
    "print(str4)"
   ]
  },
  {
   "cell_type": "code",
   "execution_count": 5,
   "id": "87ecf412",
   "metadata": {},
   "outputs": [
    {
     "data": {
      "text/plain": [
       "'l'"
      ]
     },
     "execution_count": 5,
     "metadata": {},
     "output_type": "execute_result"
    }
   ],
   "source": [
    "# Accessing Strings\n",
    "city = 'Kolkata'\n",
    "city[2]             # indexing [positive indexing, negative indexing]"
   ]
  },
  {
   "cell_type": "code",
   "execution_count": 6,
   "id": "0de1cd3e",
   "metadata": {},
   "outputs": [
    {
     "data": {
      "text/plain": [
       "'k'"
      ]
     },
     "execution_count": 6,
     "metadata": {},
     "output_type": "execute_result"
    }
   ],
   "source": [
    "city[3] # positive indexing"
   ]
  },
  {
   "cell_type": "code",
   "execution_count": 7,
   "id": "9bebedea",
   "metadata": {},
   "outputs": [
    {
     "data": {
      "text/plain": [
       "'t'"
      ]
     },
     "execution_count": 7,
     "metadata": {},
     "output_type": "execute_result"
    }
   ],
   "source": [
    "city[-2] # negative indexing"
   ]
  },
  {
   "cell_type": "code",
   "execution_count": 8,
   "id": "4cb44c5b",
   "metadata": {},
   "outputs": [
    {
     "data": {
      "text/plain": [
       "'Kol'"
      ]
     },
     "execution_count": 8,
     "metadata": {},
     "output_type": "execute_result"
    }
   ],
   "source": [
    "# Slicing\n",
    "city[0:3]"
   ]
  },
  {
   "cell_type": "code",
   "execution_count": 9,
   "id": "cc834fea",
   "metadata": {},
   "outputs": [
    {
     "data": {
      "text/plain": [
       "'lk'"
      ]
     },
     "execution_count": 9,
     "metadata": {},
     "output_type": "execute_result"
    }
   ],
   "source": [
    "city[2:4]"
   ]
  },
  {
   "cell_type": "code",
   "execution_count": 10,
   "id": "1bfcfa3c",
   "metadata": {},
   "outputs": [
    {
     "data": {
      "text/plain": [
       "'Kol'"
      ]
     },
     "execution_count": 10,
     "metadata": {},
     "output_type": "execute_result"
    }
   ],
   "source": [
    "city[:3]"
   ]
  },
  {
   "cell_type": "code",
   "execution_count": 11,
   "id": "adab4c3f",
   "metadata": {},
   "outputs": [
    {
     "data": {
      "text/plain": [
       "'kata'"
      ]
     },
     "execution_count": 11,
     "metadata": {},
     "output_type": "execute_result"
    }
   ],
   "source": [
    "city[3:]"
   ]
  },
  {
   "cell_type": "code",
   "execution_count": 12,
   "id": "4fa31f52",
   "metadata": {},
   "outputs": [
    {
     "data": {
      "text/plain": [
       "'Kl'"
      ]
     },
     "execution_count": 12,
     "metadata": {},
     "output_type": "execute_result"
    }
   ],
   "source": [
    "city[0:4:2]"
   ]
  },
  {
   "cell_type": "code",
   "execution_count": 13,
   "id": "444ac250",
   "metadata": {},
   "outputs": [
    {
     "data": {
      "text/plain": [
       "'aklo'"
      ]
     },
     "execution_count": 13,
     "metadata": {},
     "output_type": "execute_result"
    }
   ],
   "source": [
    "city[4:0:-1]"
   ]
  },
  {
   "cell_type": "code",
   "execution_count": 14,
   "id": "1243bc2a",
   "metadata": {},
   "outputs": [
    {
     "data": {
      "text/plain": [
       "'atakloK'"
      ]
     },
     "execution_count": 14,
     "metadata": {},
     "output_type": "execute_result"
    }
   ],
   "source": [
    "city[::-1]"
   ]
  },
  {
   "cell_type": "code",
   "execution_count": 15,
   "id": "7d4db62c",
   "metadata": {
    "collapsed": true
   },
   "outputs": [
    {
     "ename": "TypeError",
     "evalue": "'str' object does not support item assignment",
     "output_type": "error",
     "traceback": [
      "\u001b[1;31m---------------------------------------------------------------------------\u001b[0m",
      "\u001b[1;31mTypeError\u001b[0m                                 Traceback (most recent call last)",
      "\u001b[1;32m~\\AppData\\Local\\Temp\\ipykernel_6012\\965887992.py\u001b[0m in \u001b[0;36m<module>\u001b[1;34m\u001b[0m\n\u001b[0;32m      1\u001b[0m \u001b[1;31m# Editing\u001b[0m\u001b[1;33m\u001b[0m\u001b[1;33m\u001b[0m\u001b[0m\n\u001b[1;32m----> 2\u001b[1;33m \u001b[0mcity\u001b[0m\u001b[1;33m[\u001b[0m\u001b[1;36m0\u001b[0m\u001b[1;33m]\u001b[0m \u001b[1;33m=\u001b[0m \u001b[1;34m'x'\u001b[0m\u001b[1;33m\u001b[0m\u001b[1;33m\u001b[0m\u001b[0m\n\u001b[0m\u001b[0;32m      3\u001b[0m \u001b[0mcity\u001b[0m\u001b[1;33m\u001b[0m\u001b[1;33m\u001b[0m\u001b[0m\n",
      "\u001b[1;31mTypeError\u001b[0m: 'str' object does not support item assignment"
     ]
    }
   ],
   "source": [
    "# Editing\n",
    "city[0] = 'x'    # In python strings are immutable (No editing possible)\n",
    "city"
   ]
  },
  {
   "cell_type": "code",
   "execution_count": 16,
   "id": "a6b0274b",
   "metadata": {},
   "outputs": [
    {
     "data": {
      "text/plain": [
       "'Kolkata'"
      ]
     },
     "execution_count": 16,
     "metadata": {},
     "output_type": "execute_result"
    }
   ],
   "source": [
    "# Deletion\n",
    "city"
   ]
  },
  {
   "cell_type": "code",
   "execution_count": 17,
   "id": "a5a02e8c",
   "metadata": {},
   "outputs": [],
   "source": [
    "del city"
   ]
  },
  {
   "cell_type": "code",
   "execution_count": 18,
   "id": "28ee016e",
   "metadata": {
    "collapsed": true
   },
   "outputs": [
    {
     "ename": "NameError",
     "evalue": "name 'city' is not defined",
     "output_type": "error",
     "traceback": [
      "\u001b[1;31m---------------------------------------------------------------------------\u001b[0m",
      "\u001b[1;31mNameError\u001b[0m                                 Traceback (most recent call last)",
      "\u001b[1;32m~\\AppData\\Local\\Temp\\ipykernel_6012\\2469210864.py\u001b[0m in \u001b[0;36m<module>\u001b[1;34m\u001b[0m\n\u001b[1;32m----> 1\u001b[1;33m \u001b[0mcity\u001b[0m\u001b[1;33m\u001b[0m\u001b[1;33m\u001b[0m\u001b[0m\n\u001b[0m",
      "\u001b[1;31mNameError\u001b[0m: name 'city' is not defined"
     ]
    }
   ],
   "source": [
    "city"
   ]
  },
  {
   "cell_type": "code",
   "execution_count": 20,
   "id": "85a3b473",
   "metadata": {},
   "outputs": [],
   "source": [
    "city = 'Mumbai'\n",
    "# del city[::-1]      # 'str' object does not support item deletion"
   ]
  },
  {
   "cell_type": "markdown",
   "id": "ff08dcdf",
   "metadata": {},
   "source": [
    "Python doesn't support string editing and deletion"
   ]
  },
  {
   "cell_type": "markdown",
   "id": "72bd2fe4",
   "metadata": {},
   "source": [
    "### Operations \n",
    "- Concate\n",
    "- Multiplication\n",
    "- Membership\n",
    "- Iteration"
   ]
  },
  {
   "cell_type": "code",
   "execution_count": 22,
   "id": "1197f096",
   "metadata": {},
   "outputs": [
    {
     "data": {
      "text/plain": [
       "'Mumbai'"
      ]
     },
     "execution_count": 22,
     "metadata": {},
     "output_type": "execute_result"
    }
   ],
   "source": [
    "city"
   ]
  },
  {
   "cell_type": "code",
   "execution_count": 23,
   "id": "5419be10",
   "metadata": {},
   "outputs": [],
   "source": [
    "city1 = 'Pune'"
   ]
  },
  {
   "cell_type": "code",
   "execution_count": 26,
   "id": "138ff4c9",
   "metadata": {},
   "outputs": [
    {
     "data": {
      "text/plain": [
       "'Mumbai Pune'"
      ]
     },
     "execution_count": 26,
     "metadata": {},
     "output_type": "execute_result"
    }
   ],
   "source": [
    "# Concate\n",
    "# city + city1\n",
    "city + ' ' + city1"
   ]
  },
  {
   "cell_type": "code",
   "execution_count": 27,
   "id": "5a927146",
   "metadata": {},
   "outputs": [
    {
     "data": {
      "text/plain": [
       "'MumbaiMumbaiMumbai'"
      ]
     },
     "execution_count": 27,
     "metadata": {},
     "output_type": "execute_result"
    }
   ],
   "source": [
    "# Multiplication\n",
    "city * 3"
   ]
  },
  {
   "cell_type": "code",
   "execution_count": 30,
   "id": "63325d84",
   "metadata": {},
   "outputs": [
    {
     "data": {
      "text/plain": [
       "True"
      ]
     },
     "execution_count": 30,
     "metadata": {},
     "output_type": "execute_result"
    }
   ],
   "source": [
    "# Membership\n",
    "'M' in city"
   ]
  },
  {
   "cell_type": "code",
   "execution_count": 31,
   "id": "1bf280a6",
   "metadata": {},
   "outputs": [
    {
     "data": {
      "text/plain": [
       "False"
      ]
     },
     "execution_count": 31,
     "metadata": {},
     "output_type": "execute_result"
    }
   ],
   "source": [
    "'M' not in city"
   ]
  },
  {
   "cell_type": "code",
   "execution_count": 32,
   "id": "9c244d5c",
   "metadata": {},
   "outputs": [
    {
     "name": "stdout",
     "output_type": "stream",
     "text": [
      "M\n",
      "u\n",
      "m\n",
      "b\n",
      "a\n",
      "i\n"
     ]
    }
   ],
   "source": [
    "for i in city:\n",
    "    print(i)"
   ]
  },
  {
   "cell_type": "markdown",
   "id": "2b995cf1",
   "metadata": {},
   "source": [
    "### String Functions\n",
    "- upper / lower\n",
    "- isdigit / isalpha\n",
    "- capitalize / title\n",
    "- join / split\n",
    "- index\n",
    "- count\n",
    "- replace\n",
    "- format\n",
    "- len\n",
    "- min / max\n",
    "- sorted"
   ]
  },
  {
   "cell_type": "code",
   "execution_count": 33,
   "id": "4a124cff",
   "metadata": {},
   "outputs": [
    {
     "data": {
      "text/plain": [
       "'MUMBAI'"
      ]
     },
     "execution_count": 33,
     "metadata": {},
     "output_type": "execute_result"
    }
   ],
   "source": [
    "# upper / lower\n",
    "city.upper()"
   ]
  },
  {
   "cell_type": "code",
   "execution_count": 34,
   "id": "6c5b6bb6",
   "metadata": {},
   "outputs": [
    {
     "data": {
      "text/plain": [
       "'mumbai'"
      ]
     },
     "execution_count": 34,
     "metadata": {},
     "output_type": "execute_result"
    }
   ],
   "source": [
    "city.lower()"
   ]
  },
  {
   "cell_type": "code",
   "execution_count": 35,
   "id": "bad52a74",
   "metadata": {},
   "outputs": [
    {
     "data": {
      "text/plain": [
       "True"
      ]
     },
     "execution_count": 35,
     "metadata": {},
     "output_type": "execute_result"
    }
   ],
   "source": [
    "# isdigit / isalpha\n",
    "city.isalpha()"
   ]
  },
  {
   "cell_type": "code",
   "execution_count": 36,
   "id": "4cef6eb0",
   "metadata": {},
   "outputs": [
    {
     "data": {
      "text/plain": [
       "False"
      ]
     },
     "execution_count": 36,
     "metadata": {},
     "output_type": "execute_result"
    }
   ],
   "source": [
    "city.isdigit()"
   ]
  },
  {
   "cell_type": "code",
   "execution_count": 41,
   "id": "0c00e0c1",
   "metadata": {},
   "outputs": [
    {
     "data": {
      "text/plain": [
       "'Rajdip das'"
      ]
     },
     "execution_count": 41,
     "metadata": {},
     "output_type": "execute_result"
    }
   ],
   "source": [
    "# capitalize / title\n",
    "'raJDip dAs'.capitalize()"
   ]
  },
  {
   "cell_type": "code",
   "execution_count": 42,
   "id": "495aa949",
   "metadata": {},
   "outputs": [
    {
     "data": {
      "text/plain": [
       "'Rajdip Das'"
      ]
     },
     "execution_count": 42,
     "metadata": {},
     "output_type": "execute_result"
    }
   ],
   "source": [
    "'raJDip dAs'.title()"
   ]
  },
  {
   "cell_type": "code",
   "execution_count": 43,
   "id": "3cc5953e",
   "metadata": {},
   "outputs": [
    {
     "data": {
      "text/plain": [
       "['raJDip', 'dAs']"
      ]
     },
     "execution_count": 43,
     "metadata": {},
     "output_type": "execute_result"
    }
   ],
   "source": [
    "# join / split\n",
    "'raJDip dAs'.split()"
   ]
  },
  {
   "cell_type": "code",
   "execution_count": 53,
   "id": "170edbe2",
   "metadata": {},
   "outputs": [
    {
     "data": {
      "text/plain": [
       "['r', 'JDip d', 's']"
      ]
     },
     "execution_count": 53,
     "metadata": {},
     "output_type": "execute_result"
    }
   ],
   "source": [
    "'raJDip das'.split('a') "
   ]
  },
  {
   "cell_type": "code",
   "execution_count": 56,
   "id": "3a201933",
   "metadata": {},
   "outputs": [
    {
     "data": {
      "text/plain": [
       "'raJDip das'"
      ]
     },
     "execution_count": 56,
     "metadata": {},
     "output_type": "execute_result"
    }
   ],
   "source": [
    "\"a\".join(['r', 'JDip d', 's'])"
   ]
  },
  {
   "cell_type": "code",
   "execution_count": 64,
   "id": "dc997513",
   "metadata": {},
   "outputs": [
    {
     "data": {
      "text/plain": [
       "7"
      ]
     },
     "execution_count": 64,
     "metadata": {},
     "output_type": "execute_result"
    }
   ],
   "source": [
    "# index\n",
    "'rajdip das'.index('das')"
   ]
  },
  {
   "cell_type": "code",
   "execution_count": 68,
   "id": "7b367e47",
   "metadata": {},
   "outputs": [
    {
     "data": {
      "text/plain": [
       "2"
      ]
     },
     "execution_count": 68,
     "metadata": {},
     "output_type": "execute_result"
    }
   ],
   "source": [
    "# count\n",
    "'rajdip das'.count('a')"
   ]
  },
  {
   "cell_type": "code",
   "execution_count": 73,
   "id": "23bd9b72",
   "metadata": {},
   "outputs": [
    {
     "data": {
      "text/plain": [
       "'rajdip Das'"
      ]
     },
     "execution_count": 73,
     "metadata": {},
     "output_type": "execute_result"
    }
   ],
   "source": [
    "# replace\n",
    "name = 'rajdip das'\n",
    "'rajdip das'.replace('das', 'Das')\n",
    "\n",
    "\n",
    "# This makes a separate string, not changes is actual string"
   ]
  },
  {
   "cell_type": "code",
   "execution_count": 72,
   "id": "904cacae",
   "metadata": {},
   "outputs": [
    {
     "data": {
      "text/plain": [
       "'rajdip das'"
      ]
     },
     "execution_count": 72,
     "metadata": {},
     "output_type": "execute_result"
    }
   ],
   "source": [
    "name"
   ]
  },
  {
   "cell_type": "code",
   "execution_count": 75,
   "id": "0f10d2b3",
   "metadata": {},
   "outputs": [
    {
     "data": {
      "text/plain": [
       "'Hi Rajdip how are you today'"
      ]
     },
     "execution_count": 75,
     "metadata": {},
     "output_type": "execute_result"
    }
   ],
   "source": [
    "# format\n",
    "'Hi {} how are you {}'.format('Rajdip', 'today')"
   ]
  },
  {
   "cell_type": "code",
   "execution_count": 76,
   "id": "120f3c3b",
   "metadata": {},
   "outputs": [
    {
     "data": {
      "text/plain": [
       "'Hi today how are you Rajdip'"
      ]
     },
     "execution_count": 76,
     "metadata": {},
     "output_type": "execute_result"
    }
   ],
   "source": [
    "'Hi {1} how are you {0}'.format('Rajdip', 'today')"
   ]
  },
  {
   "cell_type": "code",
   "execution_count": 80,
   "id": "498ba57c",
   "metadata": {},
   "outputs": [
    {
     "name": "stdout",
     "output_type": "stream",
     "text": [
      "rajdip das\n"
     ]
    },
    {
     "data": {
      "text/plain": [
       "10"
      ]
     },
     "execution_count": 80,
     "metadata": {},
     "output_type": "execute_result"
    }
   ],
   "source": [
    "# len\n",
    "print(name)\n",
    "len(name)"
   ]
  },
  {
   "cell_type": "code",
   "execution_count": 81,
   "id": "a1916947",
   "metadata": {},
   "outputs": [
    {
     "name": "stdout",
     "output_type": "stream",
     "text": [
      "Mumbai\n"
     ]
    },
    {
     "data": {
      "text/plain": [
       "6"
      ]
     },
     "execution_count": 81,
     "metadata": {},
     "output_type": "execute_result"
    }
   ],
   "source": [
    "print(city)\n",
    "len(city)"
   ]
  },
  {
   "cell_type": "code",
   "execution_count": 82,
   "id": "886e6e4d",
   "metadata": {},
   "outputs": [
    {
     "data": {
      "text/plain": [
       "'u'"
      ]
     },
     "execution_count": 82,
     "metadata": {},
     "output_type": "execute_result"
    }
   ],
   "source": [
    "# min / max\n",
    "max(city)"
   ]
  },
  {
   "cell_type": "code",
   "execution_count": 83,
   "id": "37988eb9",
   "metadata": {},
   "outputs": [
    {
     "data": {
      "text/plain": [
       "'s'"
      ]
     },
     "execution_count": 83,
     "metadata": {},
     "output_type": "execute_result"
    }
   ],
   "source": [
    "max(name)"
   ]
  },
  {
   "cell_type": "code",
   "execution_count": 84,
   "id": "5761e8d1",
   "metadata": {},
   "outputs": [
    {
     "data": {
      "text/plain": [
       "'M'"
      ]
     },
     "execution_count": 84,
     "metadata": {},
     "output_type": "execute_result"
    }
   ],
   "source": [
    "min(city)"
   ]
  },
  {
   "cell_type": "code",
   "execution_count": 85,
   "id": "4f2a4ee2",
   "metadata": {},
   "outputs": [
    {
     "data": {
      "text/plain": [
       "' '"
      ]
     },
     "execution_count": 85,
     "metadata": {},
     "output_type": "execute_result"
    }
   ],
   "source": [
    "min(name)"
   ]
  },
  {
   "cell_type": "code",
   "execution_count": 86,
   "id": "c5fdd89f",
   "metadata": {},
   "outputs": [
    {
     "data": {
      "text/plain": [
       "['M', 'a', 'b', 'i', 'm', 'u']"
      ]
     },
     "execution_count": 86,
     "metadata": {},
     "output_type": "execute_result"
    }
   ],
   "source": [
    "# sorted\n",
    "sorted(city)"
   ]
  },
  {
   "cell_type": "code",
   "execution_count": 87,
   "id": "6942966e",
   "metadata": {},
   "outputs": [
    {
     "data": {
      "text/plain": [
       "['u', 'm', 'i', 'b', 'a', 'M']"
      ]
     },
     "execution_count": 87,
     "metadata": {},
     "output_type": "execute_result"
    }
   ],
   "source": [
    "sorted(city, reverse=True)"
   ]
  },
  {
   "cell_type": "code",
   "execution_count": null,
   "id": "33a64f6e",
   "metadata": {},
   "outputs": [],
   "source": []
  }
 ],
 "metadata": {
  "kernelspec": {
   "display_name": "Python 3 (ipykernel)",
   "language": "python",
   "name": "python3"
  },
  "language_info": {
   "codemirror_mode": {
    "name": "ipython",
    "version": 3
   },
   "file_extension": ".py",
   "mimetype": "text/x-python",
   "name": "python",
   "nbconvert_exporter": "python",
   "pygments_lexer": "ipython3",
   "version": "3.9.13"
  }
 },
 "nbformat": 4,
 "nbformat_minor": 5
}
