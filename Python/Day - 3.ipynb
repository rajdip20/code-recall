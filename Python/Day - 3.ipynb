{
 "cells": [
  {
   "cell_type": "markdown",
   "id": "343db6c1",
   "metadata": {},
   "source": [
    "# 1. Strings\n",
    "- Create\n",
    "- Access\n",
    "- Edit\n",
    "- Delete\n",
    "- Operations\n",
    "- Functions"
   ]
  },
  {
   "cell_type": "code",
   "execution_count": 1,
   "id": "9ee5f74a",
   "metadata": {},
   "outputs": [
    {
     "name": "stdout",
     "output_type": "stream",
     "text": [
      "\n"
     ]
    }
   ],
   "source": [
    "# Creating\n",
    "str1 = ''\n",
    "print(str1)"
   ]
  },
  {
   "cell_type": "code",
   "execution_count": 2,
   "id": "69fdc8f1",
   "metadata": {},
   "outputs": [
    {
     "name": "stdout",
     "output_type": "stream",
     "text": [
      "Kolkata\n"
     ]
    }
   ],
   "source": [
    "str2 = 'Kolkata'\n",
    "print(str2)"
   ]
  },
  {
   "cell_type": "markdown",
   "id": "a5ffcbbd",
   "metadata": {},
   "source": [
    "For a string we can use 'string', \"string\", '''string''', \"\"\"string\"\"\""
   ]
  },
  {
   "cell_type": "code",
   "execution_count": 3,
   "id": "021a6765",
   "metadata": {},
   "outputs": [
    {
     "name": "stdout",
     "output_type": "stream",
     "text": [
      "\n",
      "This is a\n",
      "multi-line\n",
      "string\n",
      "\n"
     ]
    }
   ],
   "source": [
    "str3 = '''\n",
    "This is a\n",
    "multi-line\n",
    "string\n",
    "'''\n",
    "print(str3)"
   ]
  },
  {
   "cell_type": "code",
   "execution_count": 4,
   "id": "35a8caf8",
   "metadata": {},
   "outputs": [
    {
     "name": "stdout",
     "output_type": "stream",
     "text": [
      "Kolkata\n"
     ]
    }
   ],
   "source": [
    "str4 = str(\"Kolkata\")\n",
    "print(str4)"
   ]
  },
  {
   "cell_type": "code",
   "execution_count": 5,
   "id": "87ecf412",
   "metadata": {},
   "outputs": [
    {
     "data": {
      "text/plain": [
       "'l'"
      ]
     },
     "execution_count": 5,
     "metadata": {},
     "output_type": "execute_result"
    }
   ],
   "source": [
    "# Accessing Strings\n",
    "city = 'Kolkata'\n",
    "city[2]             # indexing [positive indexing, negative indexing]"
   ]
  },
  {
   "cell_type": "code",
   "execution_count": 6,
   "id": "0de1cd3e",
   "metadata": {},
   "outputs": [
    {
     "data": {
      "text/plain": [
       "'k'"
      ]
     },
     "execution_count": 6,
     "metadata": {},
     "output_type": "execute_result"
    }
   ],
   "source": [
    "city[3] # positive indexing"
   ]
  },
  {
   "cell_type": "code",
   "execution_count": 7,
   "id": "9bebedea",
   "metadata": {},
   "outputs": [
    {
     "data": {
      "text/plain": [
       "'t'"
      ]
     },
     "execution_count": 7,
     "metadata": {},
     "output_type": "execute_result"
    }
   ],
   "source": [
    "city[-2] # negative indexing"
   ]
  },
  {
   "cell_type": "code",
   "execution_count": 8,
   "id": "4cb44c5b",
   "metadata": {},
   "outputs": [
    {
     "data": {
      "text/plain": [
       "'Kol'"
      ]
     },
     "execution_count": 8,
     "metadata": {},
     "output_type": "execute_result"
    }
   ],
   "source": [
    "# Slicing\n",
    "city[0:3]"
   ]
  },
  {
   "cell_type": "code",
   "execution_count": 9,
   "id": "cc834fea",
   "metadata": {},
   "outputs": [
    {
     "data": {
      "text/plain": [
       "'lk'"
      ]
     },
     "execution_count": 9,
     "metadata": {},
     "output_type": "execute_result"
    }
   ],
   "source": [
    "city[2:4]"
   ]
  },
  {
   "cell_type": "code",
   "execution_count": 10,
   "id": "1bfcfa3c",
   "metadata": {},
   "outputs": [
    {
     "data": {
      "text/plain": [
       "'Kol'"
      ]
     },
     "execution_count": 10,
     "metadata": {},
     "output_type": "execute_result"
    }
   ],
   "source": [
    "city[:3]"
   ]
  },
  {
   "cell_type": "code",
   "execution_count": 11,
   "id": "adab4c3f",
   "metadata": {},
   "outputs": [
    {
     "data": {
      "text/plain": [
       "'kata'"
      ]
     },
     "execution_count": 11,
     "metadata": {},
     "output_type": "execute_result"
    }
   ],
   "source": [
    "city[3:]"
   ]
  },
  {
   "cell_type": "code",
   "execution_count": 12,
   "id": "4fa31f52",
   "metadata": {},
   "outputs": [
    {
     "data": {
      "text/plain": [
       "'Kl'"
      ]
     },
     "execution_count": 12,
     "metadata": {},
     "output_type": "execute_result"
    }
   ],
   "source": [
    "city[0:4:2]"
   ]
  },
  {
   "cell_type": "code",
   "execution_count": 13,
   "id": "444ac250",
   "metadata": {},
   "outputs": [
    {
     "data": {
      "text/plain": [
       "'aklo'"
      ]
     },
     "execution_count": 13,
     "metadata": {},
     "output_type": "execute_result"
    }
   ],
   "source": [
    "city[4:0:-1]"
   ]
  },
  {
   "cell_type": "code",
   "execution_count": 14,
   "id": "1243bc2a",
   "metadata": {},
   "outputs": [
    {
     "data": {
      "text/plain": [
       "'atakloK'"
      ]
     },
     "execution_count": 14,
     "metadata": {},
     "output_type": "execute_result"
    }
   ],
   "source": [
    "city[::-1]"
   ]
  },
  {
   "cell_type": "code",
   "execution_count": 16,
   "id": "7d4db62c",
   "metadata": {
    "collapsed": true
   },
   "outputs": [
    {
     "ename": "TypeError",
     "evalue": "'str' object does not support item assignment",
     "output_type": "error",
     "traceback": [
      "\u001b[1;31m---------------------------------------------------------------------------\u001b[0m",
      "\u001b[1;31mTypeError\u001b[0m                                 Traceback (most recent call last)",
      "Cell \u001b[1;32mIn[16], line 2\u001b[0m\n\u001b[0;32m      1\u001b[0m \u001b[39m# Editing\u001b[39;00m\n\u001b[1;32m----> 2\u001b[0m city[\u001b[39m0\u001b[39;49m] \u001b[39m=\u001b[39m \u001b[39m'\u001b[39m\u001b[39mx\u001b[39m\u001b[39m'\u001b[39m    \u001b[39m# In python strings are immutable (No editing possible)\u001b[39;00m\n\u001b[0;32m      3\u001b[0m city\n",
      "\u001b[1;31mTypeError\u001b[0m: 'str' object does not support item assignment"
     ]
    }
   ],
   "source": [
    "# Editing\n",
    "city[0] = 'x'    # In python strings are immutable (No editing possible)\n",
    "city"
   ]
  },
  {
   "cell_type": "code",
   "execution_count": 17,
   "id": "a6b0274b",
   "metadata": {},
   "outputs": [
    {
     "data": {
      "text/plain": [
       "'Kolkata'"
      ]
     },
     "execution_count": 17,
     "metadata": {},
     "output_type": "execute_result"
    }
   ],
   "source": [
    "# Deletion\n",
    "city"
   ]
  },
  {
   "cell_type": "code",
   "execution_count": 18,
   "id": "a5a02e8c",
   "metadata": {},
   "outputs": [],
   "source": [
    "del city"
   ]
  },
  {
   "cell_type": "code",
   "execution_count": 19,
   "id": "28ee016e",
   "metadata": {
    "collapsed": true
   },
   "outputs": [
    {
     "ename": "NameError",
     "evalue": "name 'city' is not defined",
     "output_type": "error",
     "traceback": [
      "\u001b[1;31m---------------------------------------------------------------------------\u001b[0m",
      "\u001b[1;31mNameError\u001b[0m                                 Traceback (most recent call last)",
      "Cell \u001b[1;32mIn[19], line 1\u001b[0m\n\u001b[1;32m----> 1\u001b[0m city\n",
      "\u001b[1;31mNameError\u001b[0m: name 'city' is not defined"
     ]
    }
   ],
   "source": [
    "city"
   ]
  },
  {
   "cell_type": "code",
   "execution_count": 20,
   "id": "85a3b473",
   "metadata": {},
   "outputs": [],
   "source": [
    "city = 'Mumbai'\n",
    "# del city[::-1]      # 'str' object does not support item deletion"
   ]
  },
  {
   "cell_type": "markdown",
   "id": "ff08dcdf",
   "metadata": {},
   "source": [
    "Python doesn't support string editing and deletion"
   ]
  },
  {
   "cell_type": "markdown",
   "id": "72bd2fe4",
   "metadata": {},
   "source": [
    "### Operations \n",
    "- Concate\n",
    "- Multiplication\n",
    "- Membership\n",
    "- Iteration"
   ]
  },
  {
   "cell_type": "code",
   "execution_count": 21,
   "id": "1197f096",
   "metadata": {},
   "outputs": [
    {
     "data": {
      "text/plain": [
       "'Mumbai'"
      ]
     },
     "execution_count": 21,
     "metadata": {},
     "output_type": "execute_result"
    }
   ],
   "source": [
    "city"
   ]
  },
  {
   "cell_type": "code",
   "execution_count": 22,
   "id": "5419be10",
   "metadata": {},
   "outputs": [],
   "source": [
    "city1 = 'Pune'"
   ]
  },
  {
   "cell_type": "code",
   "execution_count": 23,
   "id": "138ff4c9",
   "metadata": {},
   "outputs": [
    {
     "data": {
      "text/plain": [
       "'Mumbai Pune'"
      ]
     },
     "execution_count": 23,
     "metadata": {},
     "output_type": "execute_result"
    }
   ],
   "source": [
    "# Concate\n",
    "# city + city1\n",
    "city + ' ' + city1"
   ]
  },
  {
   "cell_type": "code",
   "execution_count": 24,
   "id": "5a927146",
   "metadata": {},
   "outputs": [
    {
     "data": {
      "text/plain": [
       "'MumbaiMumbaiMumbai'"
      ]
     },
     "execution_count": 24,
     "metadata": {},
     "output_type": "execute_result"
    }
   ],
   "source": [
    "# Multiplication\n",
    "city * 3"
   ]
  },
  {
   "cell_type": "code",
   "execution_count": 25,
   "id": "63325d84",
   "metadata": {},
   "outputs": [
    {
     "data": {
      "text/plain": [
       "True"
      ]
     },
     "execution_count": 25,
     "metadata": {},
     "output_type": "execute_result"
    }
   ],
   "source": [
    "# Membership\n",
    "'M' in city"
   ]
  },
  {
   "cell_type": "code",
   "execution_count": 26,
   "id": "1bf280a6",
   "metadata": {},
   "outputs": [
    {
     "data": {
      "text/plain": [
       "False"
      ]
     },
     "execution_count": 26,
     "metadata": {},
     "output_type": "execute_result"
    }
   ],
   "source": [
    "'M' not in city"
   ]
  },
  {
   "cell_type": "code",
   "execution_count": 27,
   "id": "9c244d5c",
   "metadata": {},
   "outputs": [
    {
     "name": "stdout",
     "output_type": "stream",
     "text": [
      "M\n",
      "u\n",
      "m\n",
      "b\n",
      "a\n",
      "i\n"
     ]
    }
   ],
   "source": [
    "for i in city:\n",
    "    print(i)"
   ]
  },
  {
   "cell_type": "markdown",
   "id": "2b995cf1",
   "metadata": {},
   "source": [
    "### String Functions\n",
    "- upper / lower\n",
    "- isdigit / isalpha\n",
    "- capitalize / title\n",
    "- join / split\n",
    "- index\n",
    "- count\n",
    "- replace\n",
    "- format\n",
    "- len\n",
    "- min / max\n",
    "- sorted"
   ]
  },
  {
   "cell_type": "code",
   "execution_count": 28,
   "id": "4a124cff",
   "metadata": {},
   "outputs": [
    {
     "data": {
      "text/plain": [
       "'MUMBAI'"
      ]
     },
     "execution_count": 28,
     "metadata": {},
     "output_type": "execute_result"
    }
   ],
   "source": [
    "# upper / lower\n",
    "city.upper()"
   ]
  },
  {
   "cell_type": "code",
   "execution_count": 29,
   "id": "6c5b6bb6",
   "metadata": {},
   "outputs": [
    {
     "data": {
      "text/plain": [
       "'mumbai'"
      ]
     },
     "execution_count": 29,
     "metadata": {},
     "output_type": "execute_result"
    }
   ],
   "source": [
    "city.lower()"
   ]
  },
  {
   "cell_type": "code",
   "execution_count": 30,
   "id": "bad52a74",
   "metadata": {},
   "outputs": [
    {
     "data": {
      "text/plain": [
       "True"
      ]
     },
     "execution_count": 30,
     "metadata": {},
     "output_type": "execute_result"
    }
   ],
   "source": [
    "# isdigit / isalpha\n",
    "city.isalpha()"
   ]
  },
  {
   "cell_type": "code",
   "execution_count": 31,
   "id": "4cef6eb0",
   "metadata": {},
   "outputs": [
    {
     "data": {
      "text/plain": [
       "False"
      ]
     },
     "execution_count": 31,
     "metadata": {},
     "output_type": "execute_result"
    }
   ],
   "source": [
    "city.isdigit()"
   ]
  },
  {
   "cell_type": "code",
   "execution_count": 32,
   "id": "0c00e0c1",
   "metadata": {},
   "outputs": [
    {
     "data": {
      "text/plain": [
       "'Rajdip das'"
      ]
     },
     "execution_count": 32,
     "metadata": {},
     "output_type": "execute_result"
    }
   ],
   "source": [
    "# capitalize / title\n",
    "'raJDip dAs'.capitalize()"
   ]
  },
  {
   "cell_type": "code",
   "execution_count": 33,
   "id": "495aa949",
   "metadata": {},
   "outputs": [
    {
     "data": {
      "text/plain": [
       "'Rajdip Das'"
      ]
     },
     "execution_count": 33,
     "metadata": {},
     "output_type": "execute_result"
    }
   ],
   "source": [
    "'raJDip dAs'.title()"
   ]
  },
  {
   "cell_type": "code",
   "execution_count": 34,
   "id": "3cc5953e",
   "metadata": {},
   "outputs": [
    {
     "data": {
      "text/plain": [
       "['raJDip', 'dAs']"
      ]
     },
     "execution_count": 34,
     "metadata": {},
     "output_type": "execute_result"
    }
   ],
   "source": [
    "# join / split\n",
    "'raJDip dAs'.split()"
   ]
  },
  {
   "cell_type": "code",
   "execution_count": 35,
   "id": "170edbe2",
   "metadata": {},
   "outputs": [
    {
     "data": {
      "text/plain": [
       "['r', 'JDip d', 's']"
      ]
     },
     "execution_count": 35,
     "metadata": {},
     "output_type": "execute_result"
    }
   ],
   "source": [
    "'raJDip das'.split('a') "
   ]
  },
  {
   "cell_type": "code",
   "execution_count": 36,
   "id": "3a201933",
   "metadata": {},
   "outputs": [
    {
     "data": {
      "text/plain": [
       "'raJDip das'"
      ]
     },
     "execution_count": 36,
     "metadata": {},
     "output_type": "execute_result"
    }
   ],
   "source": [
    "\"a\".join(['r', 'JDip d', 's'])"
   ]
  },
  {
   "cell_type": "code",
   "execution_count": 37,
   "id": "dc997513",
   "metadata": {},
   "outputs": [
    {
     "data": {
      "text/plain": [
       "7"
      ]
     },
     "execution_count": 37,
     "metadata": {},
     "output_type": "execute_result"
    }
   ],
   "source": [
    "# index\n",
    "'rajdip das'.index('das')"
   ]
  },
  {
   "cell_type": "code",
   "execution_count": 38,
   "id": "7b367e47",
   "metadata": {},
   "outputs": [
    {
     "data": {
      "text/plain": [
       "2"
      ]
     },
     "execution_count": 38,
     "metadata": {},
     "output_type": "execute_result"
    }
   ],
   "source": [
    "# count\n",
    "'rajdip das'.count('a')"
   ]
  },
  {
   "cell_type": "code",
   "execution_count": 39,
   "id": "23bd9b72",
   "metadata": {},
   "outputs": [
    {
     "data": {
      "text/plain": [
       "'rajdip Das'"
      ]
     },
     "execution_count": 39,
     "metadata": {},
     "output_type": "execute_result"
    }
   ],
   "source": [
    "# replace\n",
    "name = 'rajdip das'\n",
    "'rajdip das'.replace('das', 'Das')\n",
    "\n",
    "\n",
    "# This makes a separate string, not changes is actual string"
   ]
  },
  {
   "cell_type": "code",
   "execution_count": 40,
   "id": "904cacae",
   "metadata": {},
   "outputs": [
    {
     "data": {
      "text/plain": [
       "'rajdip das'"
      ]
     },
     "execution_count": 40,
     "metadata": {},
     "output_type": "execute_result"
    }
   ],
   "source": [
    "name"
   ]
  },
  {
   "cell_type": "code",
   "execution_count": 41,
   "id": "0f10d2b3",
   "metadata": {},
   "outputs": [
    {
     "data": {
      "text/plain": [
       "'Hi Rajdip how are you today'"
      ]
     },
     "execution_count": 41,
     "metadata": {},
     "output_type": "execute_result"
    }
   ],
   "source": [
    "# format\n",
    "'Hi {} how are you {}'.format('Rajdip', 'today')"
   ]
  },
  {
   "cell_type": "code",
   "execution_count": 42,
   "id": "120f3c3b",
   "metadata": {},
   "outputs": [
    {
     "data": {
      "text/plain": [
       "'Hi today how are you Rajdip'"
      ]
     },
     "execution_count": 42,
     "metadata": {},
     "output_type": "execute_result"
    }
   ],
   "source": [
    "'Hi {1} how are you {0}'.format('Rajdip', 'today')"
   ]
  },
  {
   "cell_type": "code",
   "execution_count": 43,
   "id": "498ba57c",
   "metadata": {},
   "outputs": [
    {
     "name": "stdout",
     "output_type": "stream",
     "text": [
      "rajdip das\n"
     ]
    },
    {
     "data": {
      "text/plain": [
       "10"
      ]
     },
     "execution_count": 43,
     "metadata": {},
     "output_type": "execute_result"
    }
   ],
   "source": [
    "# len\n",
    "print(name)\n",
    "len(name)"
   ]
  },
  {
   "cell_type": "code",
   "execution_count": 44,
   "id": "a1916947",
   "metadata": {},
   "outputs": [
    {
     "name": "stdout",
     "output_type": "stream",
     "text": [
      "Mumbai\n"
     ]
    },
    {
     "data": {
      "text/plain": [
       "6"
      ]
     },
     "execution_count": 44,
     "metadata": {},
     "output_type": "execute_result"
    }
   ],
   "source": [
    "print(city)\n",
    "len(city)"
   ]
  },
  {
   "cell_type": "code",
   "execution_count": 45,
   "id": "886e6e4d",
   "metadata": {},
   "outputs": [
    {
     "data": {
      "text/plain": [
       "'u'"
      ]
     },
     "execution_count": 45,
     "metadata": {},
     "output_type": "execute_result"
    }
   ],
   "source": [
    "# min / max\n",
    "max(city)"
   ]
  },
  {
   "cell_type": "code",
   "execution_count": 46,
   "id": "37988eb9",
   "metadata": {},
   "outputs": [
    {
     "data": {
      "text/plain": [
       "'s'"
      ]
     },
     "execution_count": 46,
     "metadata": {},
     "output_type": "execute_result"
    }
   ],
   "source": [
    "max(name)"
   ]
  },
  {
   "cell_type": "code",
   "execution_count": 47,
   "id": "5761e8d1",
   "metadata": {},
   "outputs": [
    {
     "data": {
      "text/plain": [
       "'M'"
      ]
     },
     "execution_count": 47,
     "metadata": {},
     "output_type": "execute_result"
    }
   ],
   "source": [
    "min(city)"
   ]
  },
  {
   "cell_type": "code",
   "execution_count": 48,
   "id": "4f2a4ee2",
   "metadata": {},
   "outputs": [
    {
     "data": {
      "text/plain": [
       "' '"
      ]
     },
     "execution_count": 48,
     "metadata": {},
     "output_type": "execute_result"
    }
   ],
   "source": [
    "min(name)"
   ]
  },
  {
   "cell_type": "code",
   "execution_count": 49,
   "id": "c5fdd89f",
   "metadata": {},
   "outputs": [
    {
     "data": {
      "text/plain": [
       "['M', 'a', 'b', 'i', 'm', 'u']"
      ]
     },
     "execution_count": 49,
     "metadata": {},
     "output_type": "execute_result"
    }
   ],
   "source": [
    "# sorted\n",
    "sorted(city)"
   ]
  },
  {
   "cell_type": "code",
   "execution_count": 50,
   "id": "6942966e",
   "metadata": {},
   "outputs": [
    {
     "data": {
      "text/plain": [
       "['u', 'm', 'i', 'b', 'a', 'M']"
      ]
     },
     "execution_count": 50,
     "metadata": {},
     "output_type": "execute_result"
    }
   ],
   "source": [
    "sorted(city, reverse=True)"
   ]
  },
  {
   "attachments": {},
   "cell_type": "markdown",
   "id": "3ec3192b",
   "metadata": {},
   "source": [
    "Q. Write a Program which is like a title function."
   ]
  },
  {
   "cell_type": "code",
   "execution_count": 51,
   "id": "ee95e964",
   "metadata": {},
   "outputs": [
    {
     "name": "stdout",
     "output_type": "stream",
     "text": [
      " My Name Is Rajdip\n"
     ]
    }
   ],
   "source": [
    "s = input('Enter your string: ')\n",
    "s = s.split(\" \")\n",
    "new = \"\"\n",
    "for i in s:\n",
    "    new = new + \" \" + i[0].upper() + i[1:].lower()\n",
    "print(new)"
   ]
  },
  {
   "attachments": {},
   "cell_type": "markdown",
   "id": "5eda3c4c",
   "metadata": {},
   "source": [
    "# Lists\n",
    "- Create\n",
    "- Access\n",
    "- Edit\n",
    "- Add\n",
    "- Delete\n",
    "- Operations\n",
    "- Functions"
   ]
  },
  {
   "cell_type": "code",
   "execution_count": 52,
   "id": "5cb9c3be",
   "metadata": {},
   "outputs": [
    {
     "name": "stdout",
     "output_type": "stream",
     "text": [
      "[]\n"
     ]
    }
   ],
   "source": [
    "# Create List\n",
    "l0 = []\n",
    "l1 = []     # Empty List\n",
    "print(l1)"
   ]
  },
  {
   "cell_type": "code",
   "execution_count": 53,
   "id": "35574dd1",
   "metadata": {},
   "outputs": [
    {
     "name": "stdout",
     "output_type": "stream",
     "text": [
      "[1, 2, 3, 4, 5]\n"
     ]
    }
   ],
   "source": [
    "# Homogeneous List\n",
    "l1 = [1,2,3,4,5]\n",
    "print(l1)"
   ]
  },
  {
   "cell_type": "code",
   "execution_count": 54,
   "id": "9c28a5f0",
   "metadata": {},
   "outputs": [
    {
     "name": "stdout",
     "output_type": "stream",
     "text": [
      "[1, 'Hello', 6.5, True]\n"
     ]
    }
   ],
   "source": [
    "# Heterogeneous List\n",
    "l2 = [1, 'Hello', 6.5, True]\n",
    "print(l2)"
   ]
  },
  {
   "attachments": {},
   "cell_type": "markdown",
   "id": "9897bb9f",
   "metadata": {},
   "source": [
    "### Difference between Array and List\n",
    "- List can be Heterogeneous\n",
    "- Dynamic sizing in lists\n",
    "- List is slower"
   ]
  },
  {
   "cell_type": "code",
   "execution_count": 55,
   "id": "0705bcf3",
   "metadata": {},
   "outputs": [
    {
     "data": {
      "text/plain": [
       "[1, 2, 3, 4, [5, 6]]"
      ]
     },
     "execution_count": 55,
     "metadata": {},
     "output_type": "execute_result"
    }
   ],
   "source": [
    "l3 = [1,2,3,4,[5,6]]\n",
    "l3          # 2-D list"
   ]
  },
  {
   "cell_type": "code",
   "execution_count": 56,
   "id": "6220f5c1",
   "metadata": {},
   "outputs": [
    {
     "data": {
      "text/plain": [
       "[[[1, 2], [3, 4]], [5, 6, 7], 8, 9]"
      ]
     },
     "execution_count": 56,
     "metadata": {},
     "output_type": "execute_result"
    }
   ],
   "source": [
    "l4 = [[[1,2],[3,4]],[5,6,7],8,9]\n",
    "l4      # 3-D list"
   ]
  },
  {
   "cell_type": "code",
   "execution_count": 57,
   "id": "6f5bfc36",
   "metadata": {},
   "outputs": [
    {
     "name": "stdout",
     "output_type": "stream",
     "text": [
      "['K', 'o', 'l', 'k', 'a', 't', 'a']\n"
     ]
    }
   ],
   "source": [
    "l5 = list('Kolkata')\n",
    "print(l5)"
   ]
  },
  {
   "cell_type": "code",
   "execution_count": 58,
   "id": "e4855909",
   "metadata": {},
   "outputs": [
    {
     "data": {
      "text/plain": [
       "[1, 2, 3, 4, 5]"
      ]
     },
     "execution_count": 58,
     "metadata": {},
     "output_type": "execute_result"
    }
   ],
   "source": [
    "# Accessing items\n",
    "l1"
   ]
  },
  {
   "cell_type": "code",
   "execution_count": 59,
   "id": "1ab33c42",
   "metadata": {},
   "outputs": [],
   "source": [
    "# Indexing\n",
    "#   Positive Indexing\n",
    "#   Negative Indexing\n",
    "# Slicing"
   ]
  },
  {
   "cell_type": "code",
   "execution_count": 60,
   "id": "302a6923",
   "metadata": {},
   "outputs": [
    {
     "name": "stdout",
     "output_type": "stream",
     "text": [
      "1\n",
      "5\n"
     ]
    }
   ],
   "source": [
    "print(l1[0])    # Positive Indexing\n",
    "print(l1[-1])   # Negative Indexing"
   ]
  },
  {
   "cell_type": "code",
   "execution_count": 61,
   "id": "6731905c",
   "metadata": {},
   "outputs": [
    {
     "name": "stdout",
     "output_type": "stream",
     "text": [
      "[1, 2, 3, 4]\n",
      "[1, 3]\n",
      "[5, 4, 3, 2, 1]\n"
     ]
    }
   ],
   "source": [
    "# Slicing\n",
    "print(l1[0:4])\n",
    "print(l1[0:4:2])\n",
    "print(l1[::-1])"
   ]
  },
  {
   "cell_type": "code",
   "execution_count": 62,
   "id": "81948160",
   "metadata": {},
   "outputs": [
    {
     "name": "stdout",
     "output_type": "stream",
     "text": [
      "[1, 2, 3, 4, [5, 6]]\n",
      "5\n"
     ]
    }
   ],
   "source": [
    "print(l3)   # we need 5 from this list\n",
    "print(l3[-1][0])"
   ]
  },
  {
   "cell_type": "code",
   "execution_count": 63,
   "id": "791a3f4d",
   "metadata": {},
   "outputs": [
    {
     "name": "stdout",
     "output_type": "stream",
     "text": [
      "[[[1, 2], [3, 4]], [5, 6, 7], 8, 9]\n",
      "3\n"
     ]
    }
   ],
   "source": [
    "print(l4)   # we need 3 from this list\n",
    "print(l4[0][1][0])"
   ]
  },
  {
   "cell_type": "code",
   "execution_count": 64,
   "id": "077982bd",
   "metadata": {},
   "outputs": [
    {
     "name": "stdout",
     "output_type": "stream",
     "text": [
      "[[[1, 2], [3, 4]], [5, 6, 7], 8, 9]\n"
     ]
    },
    {
     "data": {
      "text/plain": [
       "[[5, 6, 7], 8, 9]"
      ]
     },
     "execution_count": 64,
     "metadata": {},
     "output_type": "execute_result"
    }
   ],
   "source": [
    "print(l4) # we need [5,6,7],8,9 from this list\n",
    "l4[1:]"
   ]
  },
  {
   "cell_type": "code",
   "execution_count": 65,
   "id": "3ea89670",
   "metadata": {},
   "outputs": [
    {
     "data": {
      "text/plain": [
       "[1, 2, 3, 4, 500]"
      ]
     },
     "execution_count": 65,
     "metadata": {},
     "output_type": "execute_result"
    }
   ],
   "source": [
    "# Editing List\n",
    "l1[-1] = 500\n",
    "l1              # Lists are mutable"
   ]
  },
  {
   "cell_type": "code",
   "execution_count": 66,
   "id": "fd4fef48",
   "metadata": {},
   "outputs": [
    {
     "data": {
      "text/plain": [
       "[1, 2, 200, 300, 500]"
      ]
     },
     "execution_count": 66,
     "metadata": {},
     "output_type": "execute_result"
    }
   ],
   "source": [
    "l1[2:4] = [200,300]\n",
    "l1"
   ]
  },
  {
   "cell_type": "code",
   "execution_count": 67,
   "id": "5fc29d62",
   "metadata": {},
   "outputs": [],
   "source": [
    "# Add a new item\n",
    "#   Append\n",
    "#   Extend\n",
    "#   Insert"
   ]
  },
  {
   "cell_type": "code",
   "execution_count": 68,
   "id": "09d2c86a",
   "metadata": {},
   "outputs": [
    {
     "data": {
      "text/plain": [
       "[1, 2, 200, 300, 500, 700]"
      ]
     },
     "execution_count": 68,
     "metadata": {},
     "output_type": "execute_result"
    }
   ],
   "source": [
    "# Append\n",
    "l1.append(700)\n",
    "l1"
   ]
  },
  {
   "cell_type": "code",
   "execution_count": 69,
   "id": "7606964a",
   "metadata": {},
   "outputs": [
    {
     "data": {
      "text/plain": [
       "[1, 2, 200, 300, 500, 700, [15, 16]]"
      ]
     },
     "execution_count": 69,
     "metadata": {},
     "output_type": "execute_result"
    }
   ],
   "source": [
    "l1.append([15,16])\n",
    "l1"
   ]
  },
  {
   "cell_type": "code",
   "execution_count": 70,
   "id": "f00a8e1f",
   "metadata": {},
   "outputs": [
    {
     "data": {
      "text/plain": [
       "[1, 2, 200, 300, 500, 700, [15, 16], 800, 900]"
      ]
     },
     "execution_count": 70,
     "metadata": {},
     "output_type": "execute_result"
    }
   ],
   "source": [
    "# Extend\n",
    "l1.extend([800,900])\n",
    "l1"
   ]
  },
  {
   "cell_type": "code",
   "execution_count": 71,
   "id": "e8d0b3bc",
   "metadata": {},
   "outputs": [
    {
     "data": {
      "text/plain": [
       "[1, 2, 200, 300, 500, 700, [15, 16], 800, 900, 'G', 'o', 'a']"
      ]
     },
     "execution_count": 71,
     "metadata": {},
     "output_type": "execute_result"
    }
   ],
   "source": [
    "l1.extend('Goa')\n",
    "l1"
   ]
  },
  {
   "cell_type": "code",
   "execution_count": 72,
   "id": "ed2f2e9c",
   "metadata": {},
   "outputs": [
    {
     "data": {
      "text/plain": [
       "[1, 2, 'Hello', 200, 300, 500, 700, [15, 16], 800, 900, 'G', 'o', 'a']"
      ]
     },
     "execution_count": 72,
     "metadata": {},
     "output_type": "execute_result"
    }
   ],
   "source": [
    "# Insert\n",
    "l1.insert(2,'Hello')    # 1st-> position, 2nd-> value\n",
    "l1"
   ]
  },
  {
   "cell_type": "code",
   "execution_count": 73,
   "id": "5a758ad3",
   "metadata": {},
   "outputs": [],
   "source": [
    "# Deletion\n",
    "#   Del\n",
    "#   remove\n",
    "#   pop\n",
    "#   clear"
   ]
  },
  {
   "cell_type": "code",
   "execution_count": 74,
   "id": "bcc1436d",
   "metadata": {},
   "outputs": [],
   "source": [
    "# del\n",
    "del l0\n",
    "# l0"
   ]
  },
  {
   "cell_type": "code",
   "execution_count": 75,
   "id": "e2731577",
   "metadata": {},
   "outputs": [
    {
     "data": {
      "text/plain": [
       "[200, 300, 500, 700, [15, 16], 800, 900, 'G', 'o', 'a']"
      ]
     },
     "execution_count": 75,
     "metadata": {},
     "output_type": "execute_result"
    }
   ],
   "source": [
    "del l1[0:3]\n",
    "l1"
   ]
  },
  {
   "cell_type": "code",
   "execution_count": 76,
   "id": "343debb2",
   "metadata": {},
   "outputs": [
    {
     "data": {
      "text/plain": [
       "[200, 300, 500, 700, [15, 16], 800, 900]"
      ]
     },
     "execution_count": 76,
     "metadata": {},
     "output_type": "execute_result"
    }
   ],
   "source": [
    "del l1[-3:]\n",
    "l1"
   ]
  },
  {
   "cell_type": "code",
   "execution_count": 77,
   "id": "e4a6d6a9",
   "metadata": {},
   "outputs": [
    {
     "data": {
      "text/plain": [
       "[200, 300, 500, [15, 16], 800, 900]"
      ]
     },
     "execution_count": 77,
     "metadata": {},
     "output_type": "execute_result"
    }
   ],
   "source": [
    "# remove\n",
    "l1.remove(700)\n",
    "l1"
   ]
  },
  {
   "cell_type": "code",
   "execution_count": 78,
   "id": "7b47fdc5",
   "metadata": {},
   "outputs": [],
   "source": [
    "l1.remove([15,16])"
   ]
  },
  {
   "cell_type": "code",
   "execution_count": 79,
   "id": "12aaf2f3",
   "metadata": {},
   "outputs": [
    {
     "data": {
      "text/plain": [
       "[200, 300, 500, 800]"
      ]
     },
     "execution_count": 79,
     "metadata": {},
     "output_type": "execute_result"
    }
   ],
   "source": [
    "# pop\n",
    "l1.pop()\n",
    "l1"
   ]
  },
  {
   "cell_type": "code",
   "execution_count": 80,
   "id": "cba6eece",
   "metadata": {},
   "outputs": [
    {
     "name": "stdout",
     "output_type": "stream",
     "text": [
      "[1, 2, 3, 4, [5, 6]]\n"
     ]
    },
    {
     "data": {
      "text/plain": [
       "[1, 2, 3, [5, 6]]"
      ]
     },
     "execution_count": 80,
     "metadata": {},
     "output_type": "execute_result"
    }
   ],
   "source": [
    "print(l3)\n",
    "l3.pop(3)\n",
    "l3"
   ]
  },
  {
   "cell_type": "code",
   "execution_count": 81,
   "id": "9b0ce52d",
   "metadata": {},
   "outputs": [
    {
     "data": {
      "text/plain": [
       "[]"
      ]
     },
     "execution_count": 81,
     "metadata": {},
     "output_type": "execute_result"
    }
   ],
   "source": [
    "# clear\n",
    "l1.clear()\n",
    "l1"
   ]
  },
  {
   "cell_type": "code",
   "execution_count": null,
   "id": "d5ec3962",
   "metadata": {},
   "outputs": [],
   "source": []
  }
 ],
 "metadata": {
  "kernelspec": {
   "display_name": "Python 3 (ipykernel)",
   "language": "python",
   "name": "python3"
  },
  "language_info": {
   "codemirror_mode": {
    "name": "ipython",
    "version": 3
   },
   "file_extension": ".py",
   "mimetype": "text/x-python",
   "name": "python",
   "nbconvert_exporter": "python",
   "pygments_lexer": "ipython3",
   "version": "3.10.10"
  }
 },
 "nbformat": 4,
 "nbformat_minor": 5
}
