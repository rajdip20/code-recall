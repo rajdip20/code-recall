{
 "cells": [
  {
   "cell_type": "markdown",
   "id": "343db6c1",
   "metadata": {},
   "source": [
    "# 1. Strings\n",
    "- Create\n",
    "- Access\n",
    "- Edit\n",
    "- Delete\n",
    "- Operations\n",
    "- Functions"
   ]
  },
  {
   "cell_type": "code",
   "execution_count": 3,
   "id": "9ee5f74a",
   "metadata": {},
   "outputs": [
    {
     "name": "stdout",
     "output_type": "stream",
     "text": [
      "\n"
     ]
    }
   ],
   "source": [
    "# Creating\n",
    "str1 = ''\n",
    "print(str1)"
   ]
  },
  {
   "cell_type": "code",
   "execution_count": 2,
   "id": "69fdc8f1",
   "metadata": {},
   "outputs": [
    {
     "name": "stdout",
     "output_type": "stream",
     "text": [
      "Kolkata\n"
     ]
    }
   ],
   "source": [
    "str2 = 'Kolkata'\n",
    "print(str2)"
   ]
  },
  {
   "cell_type": "markdown",
   "id": "a5ffcbbd",
   "metadata": {},
   "source": [
    "For a string we can use 'string', \"string\", '''string''', \"\"\"string\"\"\""
   ]
  },
  {
   "cell_type": "code",
   "execution_count": 5,
   "id": "021a6765",
   "metadata": {},
   "outputs": [
    {
     "name": "stdout",
     "output_type": "stream",
     "text": [
      "\n",
      "This is a\n",
      "multi-line\n",
      "string\n",
      "\n"
     ]
    }
   ],
   "source": [
    "str3 = '''\n",
    "This is a\n",
    "multi-line\n",
    "string\n",
    "'''\n",
    "print(str3)"
   ]
  },
  {
   "cell_type": "code",
   "execution_count": 6,
   "id": "35a8caf8",
   "metadata": {},
   "outputs": [
    {
     "name": "stdout",
     "output_type": "stream",
     "text": [
      "Kolkata\n"
     ]
    }
   ],
   "source": [
    "str4 = str(\"Kolkata\")\n",
    "print(str4)"
   ]
  },
  {
   "cell_type": "code",
   "execution_count": 9,
   "id": "87ecf412",
   "metadata": {},
   "outputs": [
    {
     "data": {
      "text/plain": [
       "'l'"
      ]
     },
     "execution_count": 9,
     "metadata": {},
     "output_type": "execute_result"
    }
   ],
   "source": [
    "# Accessing Strings\n",
    "city = 'Kolkata'\n",
    "city[2]             # indexing [positive indexing, negative indexing]"
   ]
  },
  {
   "cell_type": "code",
   "execution_count": 10,
   "id": "0de1cd3e",
   "metadata": {},
   "outputs": [
    {
     "data": {
      "text/plain": [
       "'k'"
      ]
     },
     "execution_count": 10,
     "metadata": {},
     "output_type": "execute_result"
    }
   ],
   "source": [
    "city[3] # positive indexing"
   ]
  },
  {
   "cell_type": "code",
   "execution_count": 14,
   "id": "9bebedea",
   "metadata": {},
   "outputs": [
    {
     "data": {
      "text/plain": [
       "'t'"
      ]
     },
     "execution_count": 14,
     "metadata": {},
     "output_type": "execute_result"
    }
   ],
   "source": [
    "city[-2] # negative indexing"
   ]
  },
  {
   "cell_type": "code",
   "execution_count": 15,
   "id": "4cb44c5b",
   "metadata": {},
   "outputs": [
    {
     "data": {
      "text/plain": [
       "'Kol'"
      ]
     },
     "execution_count": 15,
     "metadata": {},
     "output_type": "execute_result"
    }
   ],
   "source": [
    "# Slicing\n",
    "city[0:3]"
   ]
  },
  {
   "cell_type": "code",
   "execution_count": 16,
   "id": "cc834fea",
   "metadata": {},
   "outputs": [
    {
     "data": {
      "text/plain": [
       "'lk'"
      ]
     },
     "execution_count": 16,
     "metadata": {},
     "output_type": "execute_result"
    }
   ],
   "source": [
    "city[2:4]"
   ]
  },
  {
   "cell_type": "code",
   "execution_count": 17,
   "id": "1bfcfa3c",
   "metadata": {},
   "outputs": [
    {
     "data": {
      "text/plain": [
       "'Kol'"
      ]
     },
     "execution_count": 17,
     "metadata": {},
     "output_type": "execute_result"
    }
   ],
   "source": [
    "city[:3]"
   ]
  },
  {
   "cell_type": "code",
   "execution_count": 18,
   "id": "adab4c3f",
   "metadata": {},
   "outputs": [
    {
     "data": {
      "text/plain": [
       "'kata'"
      ]
     },
     "execution_count": 18,
     "metadata": {},
     "output_type": "execute_result"
    }
   ],
   "source": [
    "city[3:]"
   ]
  },
  {
   "cell_type": "code",
   "execution_count": 21,
   "id": "4fa31f52",
   "metadata": {},
   "outputs": [
    {
     "data": {
      "text/plain": [
       "'Kl'"
      ]
     },
     "execution_count": 21,
     "metadata": {},
     "output_type": "execute_result"
    }
   ],
   "source": [
    "city[0:4:2]"
   ]
  },
  {
   "cell_type": "code",
   "execution_count": 23,
   "id": "444ac250",
   "metadata": {},
   "outputs": [
    {
     "data": {
      "text/plain": [
       "'aklo'"
      ]
     },
     "execution_count": 23,
     "metadata": {},
     "output_type": "execute_result"
    }
   ],
   "source": [
    "city[4:0:-1]"
   ]
  },
  {
   "cell_type": "code",
   "execution_count": 24,
   "id": "1243bc2a",
   "metadata": {},
   "outputs": [
    {
     "data": {
      "text/plain": [
       "'atakloK'"
      ]
     },
     "execution_count": 24,
     "metadata": {},
     "output_type": "execute_result"
    }
   ],
   "source": [
    "city[::-1]"
   ]
  },
  {
   "cell_type": "code",
   "execution_count": null,
   "id": "7d4db62c",
   "metadata": {},
   "outputs": [],
   "source": []
  }
 ],
 "metadata": {
  "kernelspec": {
   "display_name": "Python 3 (ipykernel)",
   "language": "python",
   "name": "python3"
  },
  "language_info": {
   "codemirror_mode": {
    "name": "ipython",
    "version": 3
   },
   "file_extension": ".py",
   "mimetype": "text/x-python",
   "name": "python",
   "nbconvert_exporter": "python",
   "pygments_lexer": "ipython3",
   "version": "3.9.13"
  }
 },
 "nbformat": 4,
 "nbformat_minor": 5
}
