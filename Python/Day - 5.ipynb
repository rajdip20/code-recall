{
 "cells": [
  {
   "attachments": {},
   "cell_type": "markdown",
   "metadata": {},
   "source": [
    "# 1. Sets\n",
    "- Sets can't have duplicate items\n",
    "- Sets have no meaning for indexing/slicing\n",
    "- Sets can't have mutable data type\n",
    "- Sets are mutable (Add, Delete)"
   ]
  },
  {
   "cell_type": "code",
   "execution_count": 41,
   "metadata": {},
   "outputs": [
    {
     "data": {
      "text/plain": [
       "{1, 2, 3, 4}"
      ]
     },
     "execution_count": 41,
     "metadata": {},
     "output_type": "execute_result"
    }
   ],
   "source": [
    "S1 = {1,1,2,2,3,3,4,4}\n",
    "S1"
   ]
  },
  {
   "cell_type": "code",
   "execution_count": 42,
   "metadata": {},
   "outputs": [
    {
     "data": {
      "text/plain": [
       "{(3, 4), 1, 2}"
      ]
     },
     "execution_count": 42,
     "metadata": {},
     "output_type": "execute_result"
    }
   ],
   "source": [
    "S2 = {1,2,(3,4)}\n",
    "S2"
   ]
  },
  {
   "cell_type": "code",
   "execution_count": 43,
   "metadata": {},
   "outputs": [
    {
     "data": {
      "text/plain": [
       "{1, 2, 3, 4, 8}"
      ]
     },
     "execution_count": 43,
     "metadata": {},
     "output_type": "execute_result"
    }
   ],
   "source": [
    "# Add new item in set\n",
    "S1.add(8)\n",
    "S1"
   ]
  },
  {
   "cell_type": "code",
   "execution_count": 44,
   "metadata": {},
   "outputs": [
    {
     "data": {
      "text/plain": [
       "{2, 3, 4, 8}"
      ]
     },
     "execution_count": 44,
     "metadata": {},
     "output_type": "execute_result"
    }
   ],
   "source": [
    "# Delete item in set\n",
    "#   pop (FIFO)\n",
    "S1.pop()\n",
    "S1"
   ]
  },
  {
   "cell_type": "code",
   "execution_count": 45,
   "metadata": {},
   "outputs": [
    {
     "data": {
      "text/plain": [
       "{2, 3, 4}"
      ]
     },
     "execution_count": 45,
     "metadata": {},
     "output_type": "execute_result"
    }
   ],
   "source": [
    "# remove (value)\n",
    "S1.remove(8)\n",
    "S1"
   ]
  },
  {
   "cell_type": "code",
   "execution_count": 46,
   "metadata": {},
   "outputs": [
    {
     "name": "stdout",
     "output_type": "stream",
     "text": [
      "False\n",
      "True\n"
     ]
    }
   ],
   "source": [
    "# Membership Operator\n",
    "print(1 in S1)\n",
    "print(3 in S1)"
   ]
  },
  {
   "cell_type": "code",
   "execution_count": 47,
   "metadata": {},
   "outputs": [
    {
     "name": "stdout",
     "output_type": "stream",
     "text": [
      "2\n",
      "3\n",
      "4\n"
     ]
    }
   ],
   "source": [
    "# Iteration\n",
    "for i in S1:\n",
    "    print(i)"
   ]
  },
  {
   "attachments": {},
   "cell_type": "markdown",
   "metadata": {},
   "source": [
    "### Set Function\n",
    "- Union\n",
    "- Intersection\n",
    "- Difference\n",
    "- Subset\n",
    "- Superset\n",
    "- Disjoint\n",
    "- len\n",
    "- min / max\n",
    "- sorted"
   ]
  },
  {
   "cell_type": "code",
   "execution_count": 48,
   "metadata": {},
   "outputs": [
    {
     "data": {
      "text/plain": [
       "{(3, 4), 1, 2, 3, 4}"
      ]
     },
     "execution_count": 48,
     "metadata": {},
     "output_type": "execute_result"
    }
   ],
   "source": [
    "# Union\n",
    "S1.union(S2)"
   ]
  },
  {
   "cell_type": "code",
   "execution_count": 49,
   "metadata": {},
   "outputs": [
    {
     "data": {
      "text/plain": [
       "{2}"
      ]
     },
     "execution_count": 49,
     "metadata": {},
     "output_type": "execute_result"
    }
   ],
   "source": [
    "# Intersection\n",
    "S1.intersection(S2)"
   ]
  },
  {
   "cell_type": "code",
   "execution_count": 50,
   "metadata": {},
   "outputs": [
    {
     "name": "stdout",
     "output_type": "stream",
     "text": [
      "{3, 4}\n",
      "{1, (3, 4)}\n"
     ]
    }
   ],
   "source": [
    "# Difference\n",
    "print(S1.difference(S2))\n",
    "print(S2.difference(S1))"
   ]
  },
  {
   "cell_type": "code",
   "execution_count": 51,
   "metadata": {},
   "outputs": [
    {
     "data": {
      "text/plain": [
       "False"
      ]
     },
     "execution_count": 51,
     "metadata": {},
     "output_type": "execute_result"
    }
   ],
   "source": [
    "# Subset\n",
    "S1.issubset(S2)"
   ]
  },
  {
   "cell_type": "code",
   "execution_count": 52,
   "metadata": {},
   "outputs": [
    {
     "data": {
      "text/plain": [
       "False"
      ]
     },
     "execution_count": 52,
     "metadata": {},
     "output_type": "execute_result"
    }
   ],
   "source": [
    "# Superset\n",
    "S1.issuperset(S2)"
   ]
  },
  {
   "cell_type": "code",
   "execution_count": 53,
   "metadata": {},
   "outputs": [
    {
     "data": {
      "text/plain": [
       "False"
      ]
     },
     "execution_count": 53,
     "metadata": {},
     "output_type": "execute_result"
    }
   ],
   "source": [
    "# Disjoint\n",
    "S1.isdisjoint(S2)"
   ]
  },
  {
   "cell_type": "code",
   "execution_count": 54,
   "metadata": {},
   "outputs": [
    {
     "name": "stdout",
     "output_type": "stream",
     "text": [
      "3\n",
      "3\n"
     ]
    }
   ],
   "source": [
    "# len\n",
    "print(len(S1))\n",
    "print(len(S2))"
   ]
  },
  {
   "cell_type": "code",
   "execution_count": 55,
   "metadata": {},
   "outputs": [
    {
     "name": "stdout",
     "output_type": "stream",
     "text": [
      "4\n",
      "2\n"
     ]
    }
   ],
   "source": [
    "# max / min\n",
    "print(max(S1))\n",
    "print(min(S1))"
   ]
  },
  {
   "cell_type": "code",
   "execution_count": 56,
   "metadata": {},
   "outputs": [
    {
     "data": {
      "text/plain": [
       "[2, 3, 4]"
      ]
     },
     "execution_count": 56,
     "metadata": {},
     "output_type": "execute_result"
    }
   ],
   "source": [
    "# Sorted\n",
    "sorted(S1)"
   ]
  },
  {
   "attachments": {},
   "cell_type": "markdown",
   "metadata": {},
   "source": [
    "# 2. Dictionary\n",
    "- Create\n",
    "- Access\n",
    "- Edit\n",
    "- Add\n",
    "- Delete\n",
    "- Operations\n",
    "- Functions"
   ]
  },
  {
   "cell_type": "code",
   "execution_count": 57,
   "metadata": {},
   "outputs": [
    {
     "data": {
      "text/plain": [
       "{'Name': 'Pappu', 'Surname': 'Das', 'Age': 50}"
      ]
     },
     "execution_count": 57,
     "metadata": {},
     "output_type": "execute_result"
    }
   ],
   "source": [
    "# create\n",
    "D1 = {'Name': 'Pappu', 'Surname': 'Das', 'Age': 50}\n",
    "D1"
   ]
  },
  {
   "cell_type": "code",
   "execution_count": 58,
   "metadata": {},
   "outputs": [
    {
     "data": {
      "text/plain": [
       "{}"
      ]
     },
     "execution_count": 58,
     "metadata": {},
     "output_type": "execute_result"
    }
   ],
   "source": [
    "# empty dictionary\n",
    "D2 = {}\n",
    "D2"
   ]
  },
  {
   "attachments": {},
   "cell_type": "markdown",
   "metadata": {},
   "source": [
    "- Dictionary mutable (Add, Delete, Edit)\n",
    "- Key's of a dictionary can't have a mutable data type\n",
    "- No indexing / slicing"
   ]
  },
  {
   "cell_type": "code",
   "execution_count": 59,
   "metadata": {},
   "outputs": [
    {
     "data": {
      "text/plain": [
       "{1: 2, (2, 3): 'Hello'}"
      ]
     },
     "execution_count": 59,
     "metadata": {},
     "output_type": "execute_result"
    }
   ],
   "source": [
    "D3 = {1: 2, (2,3): \"Hello\"}\n",
    "D3"
   ]
  },
  {
   "cell_type": "code",
   "execution_count": 60,
   "metadata": {},
   "outputs": [
    {
     "data": {
      "text/plain": [
       "{'Name': 'Rajdip',\n",
       " 'College': 'FIEM',\n",
       " 'Semester': 8,\n",
       " 'Marks': {'OS': 90, 'CSA': 70, 'ML': 89}}"
      ]
     },
     "execution_count": 60,
     "metadata": {},
     "output_type": "execute_result"
    }
   ],
   "source": [
    "# 2D    (used in API/Json)\n",
    "\n",
    "D4 = {\n",
    "    \"Name\": \"Rajdip\",\n",
    "    \"College\": \"FIEM\",\n",
    "    \"Semester\": 8,\n",
    "    \"Marks\": {\n",
    "    \"OS\": 90,\n",
    "    \"CSA\": 70,\n",
    "    \"ML\": 89\n",
    "    }\n",
    "}\n",
    "\n",
    "D4"
   ]
  },
  {
   "cell_type": "code",
   "execution_count": 61,
   "metadata": {},
   "outputs": [
    {
     "data": {
      "text/plain": [
       "{'Name': 'Pappu', 'Surname': 'Das', 'Age': 50}"
      ]
     },
     "execution_count": 61,
     "metadata": {},
     "output_type": "execute_result"
    }
   ],
   "source": [
    "# Access Dictionary\n",
    "D1"
   ]
  },
  {
   "cell_type": "code",
   "execution_count": 62,
   "metadata": {},
   "outputs": [
    {
     "name": "stdout",
     "output_type": "stream",
     "text": [
      "Pappu\n",
      "89\n"
     ]
    }
   ],
   "source": [
    "print(D1['Name'])\n",
    "print(D4['Marks']['ML'])"
   ]
  },
  {
   "cell_type": "code",
   "execution_count": 63,
   "metadata": {},
   "outputs": [
    {
     "data": {
      "text/plain": [
       "{'Name': 'Pappu', 'Surname': 'Das', 'Age': 51}"
      ]
     },
     "execution_count": 63,
     "metadata": {},
     "output_type": "execute_result"
    }
   ],
   "source": [
    "# Edit\n",
    "D1['Age'] = 51\n",
    "D1"
   ]
  },
  {
   "cell_type": "code",
   "execution_count": 64,
   "metadata": {},
   "outputs": [
    {
     "data": {
      "text/plain": [
       "{'Name': 'Pappu', 'Surname': 'Das', 'Age': 51, 'Iq': 23}"
      ]
     },
     "execution_count": 64,
     "metadata": {},
     "output_type": "execute_result"
    }
   ],
   "source": [
    "# Add\n",
    "D1['Iq'] = 23\n",
    "D1"
   ]
  },
  {
   "cell_type": "code",
   "execution_count": 65,
   "metadata": {},
   "outputs": [],
   "source": [
    "# Delete\n",
    "del D2\n",
    "# D2"
   ]
  },
  {
   "cell_type": "code",
   "execution_count": 66,
   "metadata": {},
   "outputs": [
    {
     "data": {
      "text/plain": [
       "{'Name': 'Rajdip', 'College': 'FIEM', 'Marks': {'OS': 90, 'CSA': 70, 'ML': 89}}"
      ]
     },
     "execution_count": 66,
     "metadata": {},
     "output_type": "execute_result"
    }
   ],
   "source": [
    "del D4['Semester']\n",
    "D4"
   ]
  },
  {
   "cell_type": "code",
   "execution_count": 69,
   "metadata": {},
   "outputs": [
    {
     "name": "stdout",
     "output_type": "stream",
     "text": [
      "True\n",
      "False\n"
     ]
    }
   ],
   "source": [
    "# Operations\n",
    "print('College' in D4)\n",
    "print('FIEM' in D4)"
   ]
  },
  {
   "cell_type": "code",
   "execution_count": 70,
   "metadata": {},
   "outputs": [
    {
     "name": "stdout",
     "output_type": "stream",
     "text": [
      "Name\n",
      "College\n",
      "Marks\n"
     ]
    }
   ],
   "source": [
    "for i in D4:\n",
    "    print(i)    # print keys"
   ]
  },
  {
   "cell_type": "code",
   "execution_count": 73,
   "metadata": {},
   "outputs": [
    {
     "name": "stdout",
     "output_type": "stream",
     "text": [
      "Rajdip\n",
      "FIEM\n",
      "{'OS': 90, 'CSA': 70, 'ML': 89}\n"
     ]
    }
   ],
   "source": [
    "for i in D4:\n",
    "    print(D4[i])    # print values"
   ]
  },
  {
   "cell_type": "code",
   "execution_count": 74,
   "metadata": {},
   "outputs": [
    {
     "data": {
      "text/plain": [
       "3"
      ]
     },
     "execution_count": 74,
     "metadata": {},
     "output_type": "execute_result"
    }
   ],
   "source": [
    "# Functions\n",
    "len(D4)"
   ]
  },
  {
   "cell_type": "code",
   "execution_count": 75,
   "metadata": {},
   "outputs": [
    {
     "data": {
      "text/plain": [
       "'College'"
      ]
     },
     "execution_count": 75,
     "metadata": {},
     "output_type": "execute_result"
    }
   ],
   "source": [
    "min(D4)"
   ]
  },
  {
   "cell_type": "code",
   "execution_count": 76,
   "metadata": {},
   "outputs": [
    {
     "data": {
      "text/plain": [
       "['College', 'Marks', 'Name']"
      ]
     },
     "execution_count": 76,
     "metadata": {},
     "output_type": "execute_result"
    }
   ],
   "source": [
    "sorted(D4)"
   ]
  },
  {
   "cell_type": "code",
   "execution_count": 77,
   "metadata": {},
   "outputs": [
    {
     "data": {
      "text/plain": [
       "dict_keys(['Name', 'College', 'Marks'])"
      ]
     },
     "execution_count": 77,
     "metadata": {},
     "output_type": "execute_result"
    }
   ],
   "source": [
    "D4.keys()"
   ]
  },
  {
   "cell_type": "code",
   "execution_count": 78,
   "metadata": {},
   "outputs": [
    {
     "data": {
      "text/plain": [
       "dict_values(['Rajdip', 'FIEM', {'OS': 90, 'CSA': 70, 'ML': 89}])"
      ]
     },
     "execution_count": 78,
     "metadata": {},
     "output_type": "execute_result"
    }
   ],
   "source": [
    "D4.values()"
   ]
  },
  {
   "attachments": {},
   "cell_type": "markdown",
   "metadata": {},
   "source": [
    "Q. A song is an input. We have to calculate which word has maximum frequency."
   ]
  },
  {
   "cell_type": "code",
   "execution_count": 85,
   "metadata": {},
   "outputs": [],
   "source": [
    "lyrics = '''\n",
    "Oh God, one more Remix?\n",
    "\n",
    "Ho dil dhadkaaye\n",
    "(hey hey..)\n",
    "Arey seeti bajaye\n",
    "(hey hey..)\n",
    "Haye dil dhadkaye, seeti bajaye\n",
    "Beech sadak pe nakhre dikhaye\n",
    "Saare, ho karke ishare\n",
    "Ho ladki.. aan aan aan…\n",
    "Ho ladki.. aan aan aan…\n",
    "\n",
    "Oh ladki aankh marey\n",
    "Aankh maare\n",
    "Oh ladki aankh marey\n",
    "Aankh maare\n",
    "Oh ladki aankh marey\n",
    "\n",
    "(hey hey…)\n",
    "\n",
    "Jahaan jahaan jaaun\n",
    "Mere peeche peeche aaye\n",
    "Gali gali ke aashiq\n",
    "Dono mera hona chaahe\n",
    "\n",
    "Tang tang tang… wakao\n",
    "Tang tang tang…\n",
    "\n",
    "Haaye jahaan jahaan jaaye\n",
    "Tere peeche peeche aaye\n",
    "Hum toh hai deewane tere\n",
    "Tera hona chaahe\n",
    "\n",
    "Seeti bajaye\n",
    "(hey hey hey)\n",
    "Nakhre dikhaye\n",
    "(hey hey hey)\n",
    "Seeti bajaye nakhre dikhaye\n",
    "Beech sadak mein haye naam mera pukare\n",
    "Oh kar ke ishare\n",
    "O ladka aan aan aan…\n",
    "O ladka aan aan aan…\n",
    "O ladka.. aankh maare\n",
    "Oh ladki aankh maare\n",
    "Aankh maare\n",
    "Oh ladki aankh maare\n",
    "Aankh marey\n",
    "\n",
    "Tushar Kapoor ki awaaz mein\n",
    "Ee ow aan aan aan…\n",
    "Ee ow aan aan aan…\n",
    "Ee ow aan aan aan…\n",
    "\n",
    "Kumar Sanu ki aawaz mein\n",
    "\n",
    "Oh ladki aankh maare\n",
    "Aankh marey\n",
    "Oh ladki aankh maare\n",
    "Aankh marey\n",
    "Oh ladki aankh maare\n",
    "\n",
    "Aan aan aan…\n",
    "O ladka.. aan aan aan…\n",
    "O ladki.. aan aan aan…\n",
    "O ladka.. aan aan aan…\n",
    "\n",
    "Aan aan aan…\n",
    "Aan aan aan…\n",
    "'''"
   ]
  },
  {
   "cell_type": "code",
   "execution_count": 86,
   "metadata": {},
   "outputs": [
    {
     "data": {
      "text/plain": [
       "['Oh',\n",
       " 'God,',\n",
       " 'one',\n",
       " 'more',\n",
       " 'Remix?',\n",
       " 'Ho',\n",
       " 'dil',\n",
       " 'dhadkaaye',\n",
       " '(hey',\n",
       " 'hey..)',\n",
       " 'Arey',\n",
       " 'seeti',\n",
       " 'bajaye',\n",
       " '(hey',\n",
       " 'hey..)',\n",
       " 'Haye',\n",
       " 'dil',\n",
       " 'dhadkaye,',\n",
       " 'seeti',\n",
       " 'bajaye',\n",
       " 'Beech',\n",
       " 'sadak',\n",
       " 'pe',\n",
       " 'nakhre',\n",
       " 'dikhaye',\n",
       " 'Saare,',\n",
       " 'ho',\n",
       " 'karke',\n",
       " 'ishare',\n",
       " 'Ho',\n",
       " 'ladki..',\n",
       " 'aan',\n",
       " 'aan',\n",
       " 'aan…',\n",
       " 'Ho',\n",
       " 'ladki..',\n",
       " 'aan',\n",
       " 'aan',\n",
       " 'aan…',\n",
       " 'Oh',\n",
       " 'ladki',\n",
       " 'aankh',\n",
       " 'marey',\n",
       " 'Aankh',\n",
       " 'maare',\n",
       " 'Oh',\n",
       " 'ladki',\n",
       " 'aankh',\n",
       " 'marey',\n",
       " 'Aankh',\n",
       " 'maare',\n",
       " 'Oh',\n",
       " 'ladki',\n",
       " 'aankh',\n",
       " 'marey',\n",
       " '(hey',\n",
       " 'hey…)',\n",
       " 'Jahaan',\n",
       " 'jahaan',\n",
       " 'jaaun',\n",
       " 'Mere',\n",
       " 'peeche',\n",
       " 'peeche',\n",
       " 'aaye',\n",
       " 'Gali',\n",
       " 'gali',\n",
       " 'ke',\n",
       " 'aashiq',\n",
       " 'Dono',\n",
       " 'mera',\n",
       " 'hona',\n",
       " 'chaahe',\n",
       " 'Tang',\n",
       " 'tang',\n",
       " 'tang…',\n",
       " 'wakao',\n",
       " 'Tang',\n",
       " 'tang',\n",
       " 'tang…',\n",
       " 'Haaye',\n",
       " 'jahaan',\n",
       " 'jahaan',\n",
       " 'jaaye',\n",
       " 'Tere',\n",
       " 'peeche',\n",
       " 'peeche',\n",
       " 'aaye',\n",
       " 'Hum',\n",
       " 'toh',\n",
       " 'hai',\n",
       " 'deewane',\n",
       " 'tere',\n",
       " 'Tera',\n",
       " 'hona',\n",
       " 'chaahe',\n",
       " 'Seeti',\n",
       " 'bajaye',\n",
       " '(hey',\n",
       " 'hey',\n",
       " 'hey)',\n",
       " 'Nakhre',\n",
       " 'dikhaye',\n",
       " '(hey',\n",
       " 'hey',\n",
       " 'hey)',\n",
       " 'Seeti',\n",
       " 'bajaye',\n",
       " 'nakhre',\n",
       " 'dikhaye',\n",
       " 'Beech',\n",
       " 'sadak',\n",
       " 'mein',\n",
       " 'haye',\n",
       " 'naam',\n",
       " 'mera',\n",
       " 'pukare',\n",
       " 'Oh',\n",
       " 'kar',\n",
       " 'ke',\n",
       " 'ishare',\n",
       " 'O',\n",
       " 'ladka',\n",
       " 'aan',\n",
       " 'aan',\n",
       " 'aan…',\n",
       " 'O',\n",
       " 'ladka',\n",
       " 'aan',\n",
       " 'aan',\n",
       " 'aan…',\n",
       " 'O',\n",
       " 'ladka..',\n",
       " 'aankh',\n",
       " 'maare',\n",
       " 'Oh',\n",
       " 'ladki',\n",
       " 'aankh',\n",
       " 'maare',\n",
       " 'Aankh',\n",
       " 'maare',\n",
       " 'Oh',\n",
       " 'ladki',\n",
       " 'aankh',\n",
       " 'maare',\n",
       " 'Aankh',\n",
       " 'marey',\n",
       " 'Tushar',\n",
       " 'Kapoor',\n",
       " 'ki',\n",
       " 'awaaz',\n",
       " 'mein',\n",
       " 'Ee',\n",
       " 'ow',\n",
       " 'aan',\n",
       " 'aan',\n",
       " 'aan…',\n",
       " 'Ee',\n",
       " 'ow',\n",
       " 'aan',\n",
       " 'aan',\n",
       " 'aan…',\n",
       " 'Ee',\n",
       " 'ow',\n",
       " 'aan',\n",
       " 'aan',\n",
       " 'aan…',\n",
       " 'Kumar',\n",
       " 'Sanu',\n",
       " 'ki',\n",
       " 'aawaz',\n",
       " 'mein',\n",
       " 'Oh',\n",
       " 'ladki',\n",
       " 'aankh',\n",
       " 'maare',\n",
       " 'Aankh',\n",
       " 'marey',\n",
       " 'Oh',\n",
       " 'ladki',\n",
       " 'aankh',\n",
       " 'maare',\n",
       " 'Aankh',\n",
       " 'marey',\n",
       " 'Oh',\n",
       " 'ladki',\n",
       " 'aankh',\n",
       " 'maare',\n",
       " 'Aan',\n",
       " 'aan',\n",
       " 'aan…',\n",
       " 'O',\n",
       " 'ladka..',\n",
       " 'aan',\n",
       " 'aan',\n",
       " 'aan…',\n",
       " 'O',\n",
       " 'ladki..',\n",
       " 'aan',\n",
       " 'aan',\n",
       " 'aan…',\n",
       " 'O',\n",
       " 'ladka..',\n",
       " 'aan',\n",
       " 'aan',\n",
       " 'aan…',\n",
       " 'Aan',\n",
       " 'aan',\n",
       " 'aan…',\n",
       " 'Aan',\n",
       " 'aan',\n",
       " 'aan…']"
      ]
     },
     "execution_count": 86,
     "metadata": {},
     "output_type": "execute_result"
    }
   ],
   "source": [
    "lyrics = lyrics.split()\n",
    "lyrics"
   ]
  },
  {
   "cell_type": "code",
   "execution_count": 94,
   "metadata": {},
   "outputs": [
    {
     "name": "stdout",
     "output_type": "stream",
     "text": [
      "23\n",
      "aan\n"
     ]
    }
   ],
   "source": [
    "f = {}\n",
    "for i in lyrics:\n",
    "    if i in f:\n",
    "        f[i] = f[i] + 1\n",
    "    else:\n",
    "        f[i] = 1\n",
    "print(max(f.values()))\n",
    "for i in f:\n",
    "    if f[i] == 23:\n",
    "        print(i)"
   ]
  },
  {
   "cell_type": "code",
   "execution_count": null,
   "metadata": {},
   "outputs": [],
   "source": []
  }
 ],
 "metadata": {
  "kernelspec": {
   "display_name": "Python 3",
   "language": "python",
   "name": "python3"
  },
  "language_info": {
   "codemirror_mode": {
    "name": "ipython",
    "version": 3
   },
   "file_extension": ".py",
   "mimetype": "text/x-python",
   "name": "python",
   "nbconvert_exporter": "python",
   "pygments_lexer": "ipython3",
   "version": "3.10.10"
  },
  "orig_nbformat": 4
 },
 "nbformat": 4,
 "nbformat_minor": 2
}
