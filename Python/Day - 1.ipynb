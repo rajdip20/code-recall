{
 "cells": [
  {
   "cell_type": "markdown",
   "id": "6804cba3",
   "metadata": {},
   "source": [
    "## 1. Printing Out"
   ]
  },
  {
   "cell_type": "code",
   "execution_count": 2,
   "id": "4e05902d",
   "metadata": {},
   "outputs": [
    {
     "name": "stdout",
     "output_type": "stream",
     "text": [
      "Hello World\n"
     ]
    }
   ],
   "source": [
    "print('Hello World')"
   ]
  },
  {
   "cell_type": "code",
   "execution_count": 3,
   "id": "6c54b3b3",
   "metadata": {},
   "outputs": [
    {
     "name": "stdout",
     "output_type": "stream",
     "text": [
      "5\n"
     ]
    }
   ],
   "source": [
    "print(5)"
   ]
  },
  {
   "cell_type": "code",
   "execution_count": 4,
   "id": "f8ea1e23",
   "metadata": {},
   "outputs": [
    {
     "name": "stdout",
     "output_type": "stream",
     "text": [
      "5.4\n"
     ]
    }
   ],
   "source": [
    "print(5.4)"
   ]
  },
  {
   "cell_type": "code",
   "execution_count": 5,
   "id": "415b73dd",
   "metadata": {},
   "outputs": [
    {
     "name": "stdout",
     "output_type": "stream",
     "text": [
      "True\n"
     ]
    }
   ],
   "source": [
    "print(True)"
   ]
  },
  {
   "cell_type": "code",
   "execution_count": 6,
   "id": "69c5a4f8",
   "metadata": {},
   "outputs": [
    {
     "name": "stdout",
     "output_type": "stream",
     "text": [
      "True\n"
     ]
    }
   ],
   "source": [
    "print(5>4)"
   ]
  },
  {
   "cell_type": "code",
   "execution_count": 7,
   "id": "04ff4cca",
   "metadata": {},
   "outputs": [
    {
     "name": "stdout",
     "output_type": "stream",
     "text": [
      "1 Hello 6.7 True\n"
     ]
    }
   ],
   "source": [
    "print(1, \"Hello\", 6.7, True)"
   ]
  },
  {
   "cell_type": "code",
   "execution_count": 12,
   "id": "7a326910",
   "metadata": {},
   "outputs": [
    {
     "name": "stdout",
     "output_type": "stream",
     "text": [
      "1\n",
      "2\n",
      "3\n",
      "4\n"
     ]
    }
   ],
   "source": [
    "print(1,2,3,4, sep = '\\n')"
   ]
  },
  {
   "cell_type": "code",
   "execution_count": 15,
   "id": "7fd8094c",
   "metadata": {},
   "outputs": [
    {
     "name": "stdout",
     "output_type": "stream",
     "text": [
      "Hello World\n"
     ]
    }
   ],
   "source": [
    "print('Hello', end=' ')\n",
    "print('World')"
   ]
  },
  {
   "cell_type": "code",
   "execution_count": 21,
   "id": "97ed78e6",
   "metadata": {},
   "outputs": [],
   "source": [
    "# This is a Comment"
   ]
  },
  {
   "cell_type": "markdown",
   "id": "ae668815",
   "metadata": {},
   "source": [
    "# 2. Data Types\n",
    "## Primitive Data Types\n",
    "### i. int\n",
    "### ii. float\n",
    "### iii. string\n",
    "### iv. boolean\n",
    "\n",
    "# Non Primitive Data Types\n",
    "### v. complex\n",
    "### vi. list\n",
    "### vii. tuples\n",
    "### viii. sets\n",
    "### ix. dictionary"
   ]
  },
  {
   "cell_type": "code",
   "execution_count": 23,
   "id": "503c8fe5",
   "metadata": {},
   "outputs": [
    {
     "name": "stdout",
     "output_type": "stream",
     "text": [
      "4\n"
     ]
    }
   ],
   "source": [
    "# Int\n",
    "print(4)"
   ]
  },
  {
   "cell_type": "code",
   "execution_count": 24,
   "id": "9f58c335",
   "metadata": {},
   "outputs": [
    {
     "name": "stdout",
     "output_type": "stream",
     "text": [
      "4.5\n"
     ]
    }
   ],
   "source": [
    "# Float\n",
    "print(4.5)"
   ]
  },
  {
   "cell_type": "code",
   "execution_count": 25,
   "id": "72afc29d",
   "metadata": {},
   "outputs": [
    {
     "name": "stdout",
     "output_type": "stream",
     "text": [
      "India\n"
     ]
    }
   ],
   "source": [
    "# String\n",
    "print('India')"
   ]
  },
  {
   "cell_type": "code",
   "execution_count": 27,
   "id": "b79ca84e",
   "metadata": {},
   "outputs": [
    {
     "name": "stdout",
     "output_type": "stream",
     "text": [
      "True\n",
      "False\n"
     ]
    }
   ],
   "source": [
    "# Boolean\n",
    "print(True)\n",
    "print(False)"
   ]
  },
  {
   "cell_type": "code",
   "execution_count": 28,
   "id": "7df33267",
   "metadata": {},
   "outputs": [
    {
     "name": "stdout",
     "output_type": "stream",
     "text": [
      "(3+4j)\n"
     ]
    }
   ],
   "source": [
    "# Complex\n",
    "print(3+4j)"
   ]
  },
  {
   "cell_type": "code",
   "execution_count": 29,
   "id": "24759bdc",
   "metadata": {},
   "outputs": [
    {
     "name": "stdout",
     "output_type": "stream",
     "text": [
      "[1, 2, 3, 4, 5]\n"
     ]
    }
   ],
   "source": [
    "# List\n",
    "print([1,2,3,4,5])"
   ]
  },
  {
   "cell_type": "code",
   "execution_count": 30,
   "id": "84fe8cbc",
   "metadata": {},
   "outputs": [
    {
     "name": "stdout",
     "output_type": "stream",
     "text": [
      "(1, 2, 3, 4, 5)\n"
     ]
    }
   ],
   "source": [
    "# Tuple\n",
    "print((1,2,3,4,5))"
   ]
  },
  {
   "cell_type": "code",
   "execution_count": 31,
   "id": "3b72526b",
   "metadata": {},
   "outputs": [
    {
     "name": "stdout",
     "output_type": "stream",
     "text": [
      "{1, 2, 3, 4, 5}\n"
     ]
    }
   ],
   "source": [
    "# Sets\n",
    "print({1,2,3,4,5})"
   ]
  },
  {
   "cell_type": "code",
   "execution_count": 32,
   "id": "ad11da36",
   "metadata": {},
   "outputs": [
    {
     "name": "stdout",
     "output_type": "stream",
     "text": [
      "{'Name': 'Raj', 'Age': 21}\n"
     ]
    }
   ],
   "source": [
    "# Dictionary\n",
    "print({'Name':'Raj', 'Age': 21})"
   ]
  },
  {
   "cell_type": "markdown",
   "id": "13d883a9",
   "metadata": {},
   "source": [
    "# 3. Detecting Data Types"
   ]
  },
  {
   "cell_type": "code",
   "execution_count": 33,
   "id": "d49623a0",
   "metadata": {},
   "outputs": [
    {
     "data": {
      "text/plain": [
       "int"
      ]
     },
     "execution_count": 33,
     "metadata": {},
     "output_type": "execute_result"
    }
   ],
   "source": [
    "type(4)"
   ]
  },
  {
   "cell_type": "code",
   "execution_count": 34,
   "id": "cb1f6ea4",
   "metadata": {},
   "outputs": [
    {
     "data": {
      "text/plain": [
       "complex"
      ]
     },
     "execution_count": 34,
     "metadata": {},
     "output_type": "execute_result"
    }
   ],
   "source": [
    "type(4+5j)"
   ]
  },
  {
   "cell_type": "code",
   "execution_count": 35,
   "id": "3001d4b4",
   "metadata": {},
   "outputs": [
    {
     "data": {
      "text/plain": [
       "tuple"
      ]
     },
     "execution_count": 35,
     "metadata": {},
     "output_type": "execute_result"
    }
   ],
   "source": [
    "type((1,2,3,4,5))"
   ]
  },
  {
   "cell_type": "code",
   "execution_count": 36,
   "id": "06aaf1c9",
   "metadata": {},
   "outputs": [
    {
     "data": {
      "text/plain": [
       "list"
      ]
     },
     "execution_count": 36,
     "metadata": {},
     "output_type": "execute_result"
    }
   ],
   "source": [
    "b= [1,2,3,4,5]\n",
    "type(b)"
   ]
  },
  {
   "cell_type": "markdown",
   "id": "96b0904b",
   "metadata": {},
   "source": [
    "# 4. Taking user Input"
   ]
  },
  {
   "cell_type": "code",
   "execution_count": 39,
   "id": "5e48803b",
   "metadata": {},
   "outputs": [
    {
     "name": "stdout",
     "output_type": "stream",
     "text": [
      "12336\n"
     ]
    },
    {
     "data": {
      "text/plain": [
       "'12336'"
      ]
     },
     "execution_count": 39,
     "metadata": {},
     "output_type": "execute_result"
    }
   ],
   "source": [
    "input() # Not a good practice"
   ]
  },
  {
   "cell_type": "code",
   "execution_count": 41,
   "id": "2260b110",
   "metadata": {},
   "outputs": [
    {
     "name": "stdout",
     "output_type": "stream",
     "text": [
      "Enter your age: 21\n"
     ]
    },
    {
     "data": {
      "text/plain": [
       "'21'"
      ]
     },
     "execution_count": 41,
     "metadata": {},
     "output_type": "execute_result"
    }
   ],
   "source": [
    "input('Enter your age: ')"
   ]
  },
  {
   "cell_type": "markdown",
   "id": "fcc2ba7e",
   "metadata": {},
   "source": [
    "# 5. Variables\n",
    "- Dynamic Typing\n",
    "- Dynamic Binding"
   ]
  },
  {
   "cell_type": "code",
   "execution_count": 44,
   "id": "7103e950",
   "metadata": {},
   "outputs": [
    {
     "name": "stdout",
     "output_type": "stream",
     "text": [
      "5\n"
     ]
    }
   ],
   "source": [
    "# Dynamic Typing\n",
    "a = 5\n",
    "print(a)"
   ]
  },
  {
   "cell_type": "code",
   "execution_count": 43,
   "id": "960ba6dd",
   "metadata": {},
   "outputs": [
    {
     "name": "stdout",
     "output_type": "stream",
     "text": [
      "Kolkata\n"
     ]
    }
   ],
   "source": [
    "y = 'Kolkata'\n",
    "print(y)"
   ]
  },
  {
   "cell_type": "code",
   "execution_count": 45,
   "id": "12d6a6aa",
   "metadata": {},
   "outputs": [
    {
     "name": "stdout",
     "output_type": "stream",
     "text": [
      "4\n",
      "Kolkata\n"
     ]
    }
   ],
   "source": [
    "# Dynamic Binding\n",
    "a = 4\n",
    "print(a)\n",
    "a = 'Kolkata'\n",
    "print(a)"
   ]
  },
  {
   "cell_type": "markdown",
   "id": "619c15c8",
   "metadata": {},
   "source": [
    "# 6. Type Conversoin\n",
    "Converting one data type to another"
   ]
  },
  {
   "cell_type": "code",
   "execution_count": 46,
   "id": "477c43a3",
   "metadata": {},
   "outputs": [
    {
     "name": "stdout",
     "output_type": "stream",
     "text": [
      "Enter 1st number: 45\n",
      "Enter 2nd number: 100\n"
     ]
    }
   ],
   "source": [
    "first = input('Enter 1st number: ')\n",
    "second = input('Enter 2nd number: ')"
   ]
  },
  {
   "cell_type": "code",
   "execution_count": 47,
   "id": "6d2b7c23",
   "metadata": {},
   "outputs": [
    {
     "name": "stdout",
     "output_type": "stream",
     "text": [
      "45\n",
      "100\n"
     ]
    }
   ],
   "source": [
    "print(first)\n",
    "print(second)"
   ]
  },
  {
   "cell_type": "code",
   "execution_count": 48,
   "id": "20386590",
   "metadata": {},
   "outputs": [
    {
     "name": "stdout",
     "output_type": "stream",
     "text": [
      "45100\n"
     ]
    }
   ],
   "source": [
    "print(first + second)"
   ]
  },
  {
   "cell_type": "markdown",
   "id": "dcdfa329",
   "metadata": {},
   "source": [
    "* Python input function always store data in String format"
   ]
  },
  {
   "cell_type": "code",
   "execution_count": 52,
   "id": "4e02a7bd",
   "metadata": {},
   "outputs": [
    {
     "name": "stdout",
     "output_type": "stream",
     "text": [
      "Enter 1st number: 45\n",
      "Enter 2nd number: 100\n"
     ]
    }
   ],
   "source": [
    "first = int(input('Enter 1st number: '))    # Explicit Type Conversion\n",
    "second = int(input('Enter 2nd number: '))   # Explicit Type Conversion"
   ]
  },
  {
   "cell_type": "code",
   "execution_count": 50,
   "id": "8867022d",
   "metadata": {},
   "outputs": [
    {
     "name": "stdout",
     "output_type": "stream",
     "text": [
      "45\n",
      "100\n"
     ]
    }
   ],
   "source": [
    "print(first)\n",
    "print(second)"
   ]
  },
  {
   "cell_type": "code",
   "execution_count": 51,
   "id": "fda49828",
   "metadata": {},
   "outputs": [
    {
     "name": "stdout",
     "output_type": "stream",
     "text": [
      "145\n"
     ]
    }
   ],
   "source": [
    "print(first + second)"
   ]
  },
  {
   "cell_type": "code",
   "execution_count": 53,
   "id": "2a60eb80",
   "metadata": {},
   "outputs": [],
   "source": [
    "# Type Conversion\n",
    "# 1. Explicit Type Conversion\n",
    "# 2. Implicit Type Conversion"
   ]
  },
  {
   "cell_type": "code",
   "execution_count": 55,
   "id": "1b2dd245",
   "metadata": {},
   "outputs": [
    {
     "name": "stdout",
     "output_type": "stream",
     "text": [
      "9.6\n"
     ]
    }
   ],
   "source": [
    "print(4 + 5.6) # Implicit Conversion"
   ]
  },
  {
   "cell_type": "markdown",
   "id": "acb9a7c6",
   "metadata": {},
   "source": [
    "# 7. Keywords and Indetifiers"
   ]
  },
  {
   "cell_type": "markdown",
   "id": "19f95123",
   "metadata": {},
   "source": [
    "### Keywords\n",
    "Keywords are reserved words by the compiler/interpreter. There are total 32 keywords.\n",
    "<img src='https://www.tutorialstonight.com/assets/python/python-keywords.png'>"
   ]
  },
  {
   "cell_type": "markdown",
   "id": "61b09634",
   "metadata": {},
   "source": [
    "### Identifiers\n",
    "Names given by the programmer in a program (variable name, function name, class name)\n",
    "1. Identifiers can not start with a digit\n",
    "2. You can only use '_' as spacial chars\n",
    "3. Identifiers != Keywords"
   ]
  },
  {
   "cell_type": "markdown",
   "id": "387424bc",
   "metadata": {},
   "source": [
    "# 8. Literals\n",
    "Literals values assigned to a variable"
   ]
  },
  {
   "cell_type": "code",
   "execution_count": 56,
   "id": "ea477dd2",
   "metadata": {},
   "outputs": [],
   "source": [
    "a = 2 # 2 is the Literal"
   ]
  },
  {
   "cell_type": "code",
   "execution_count": 59,
   "id": "67f27fa9",
   "metadata": {},
   "outputs": [
    {
     "name": "stdout",
     "output_type": "stream",
     "text": [
      "14\n"
     ]
    }
   ],
   "source": [
    "a = 0b1110\n",
    "print(a)"
   ]
  },
  {
   "cell_type": "code",
   "execution_count": 66,
   "id": "95543baa",
   "metadata": {},
   "outputs": [
    {
     "name": "stdout",
     "output_type": "stream",
     "text": [
      "255\n"
     ]
    }
   ],
   "source": [
    "a = 0xff\n",
    "print(a)"
   ]
  },
  {
   "cell_type": "code",
   "execution_count": 68,
   "id": "9bd30f4d",
   "metadata": {},
   "outputs": [
    {
     "name": "stdout",
     "output_type": "stream",
     "text": [
      "1200.0\n"
     ]
    }
   ],
   "source": [
    "a = 1.2e3 # 1.2 * 10^3\n",
    "print(a)"
   ]
  },
  {
   "cell_type": "code",
   "execution_count": 70,
   "id": "ab4e978f",
   "metadata": {},
   "outputs": [
    {
     "name": "stdout",
     "output_type": "stream",
     "text": [
      "0.0012\n"
     ]
    }
   ],
   "source": [
    "a = 1.2e-3 # 1.2 * 10^-3\n",
    "print(a)"
   ]
  },
  {
   "cell_type": "code",
   "execution_count": 72,
   "id": "c792b0b9",
   "metadata": {},
   "outputs": [
    {
     "name": "stdout",
     "output_type": "stream",
     "text": [
      "None\n"
     ]
    }
   ],
   "source": [
    "x = None # Null or Void\n",
    "print(x)"
   ]
  },
  {
   "cell_type": "code",
   "execution_count": 73,
   "id": "291fab6f",
   "metadata": {},
   "outputs": [
    {
     "name": "stdout",
     "output_type": "stream",
     "text": [
      "5\n",
      "4\n"
     ]
    }
   ],
   "source": [
    "x = True + 4\n",
    "print(x)\n",
    "x = False + 4\n",
    "print(x)"
   ]
  },
  {
   "cell_type": "markdown",
   "id": "4bfab14a",
   "metadata": {},
   "source": [
    "# 9. Operators\n",
    "- Arithmetic\n",
    "- Comparison\n",
    "- Logical\n",
    "- Bitwise\n",
    "- Assignment\n",
    "- Membership"
   ]
  },
  {
   "cell_type": "code",
   "execution_count": 77,
   "id": "59bbd628",
   "metadata": {},
   "outputs": [
    {
     "name": "stdout",
     "output_type": "stream",
     "text": [
      "5\n",
      "1\n",
      "6\n",
      "2.5\n",
      "2\n",
      "1\n",
      "16\n"
     ]
    }
   ],
   "source": [
    "# Arithmetic Operator\n",
    "print(2+3)\n",
    "print(3-2)\n",
    "print(2*3)\n",
    "print(5/2)\n",
    "print(5//2)\n",
    "print(5%2)\n",
    "print(4**2)"
   ]
  },
  {
   "cell_type": "code",
   "execution_count": 78,
   "id": "230dac55",
   "metadata": {},
   "outputs": [
    {
     "name": "stdout",
     "output_type": "stream",
     "text": [
      "True\n",
      "False\n",
      "True\n",
      "False\n",
      "False\n",
      "True\n"
     ]
    }
   ],
   "source": [
    "# Comparison / Relational Operator\n",
    "print(3>2)\n",
    "print(3<2)\n",
    "print(3>=2)\n",
    "print(3<=2)\n",
    "print(3==2)\n",
    "print(3!=2)"
   ]
  },
  {
   "cell_type": "code",
   "execution_count": 79,
   "id": "04efd96f",
   "metadata": {},
   "outputs": [
    {
     "name": "stdout",
     "output_type": "stream",
     "text": [
      "0\n",
      "1\n",
      "False\n"
     ]
    }
   ],
   "source": [
    "# Logical Operator\n",
    "print(1 and 0)\n",
    "print(1 or 0)\n",
    "print(not 1)"
   ]
  },
  {
   "cell_type": "code",
   "execution_count": 91,
   "id": "9470d08c",
   "metadata": {},
   "outputs": [
    {
     "name": "stdout",
     "output_type": "stream",
     "text": [
      "7\n",
      "0\n",
      "1\n",
      "1\n",
      "10\n",
      "-3\n"
     ]
    }
   ],
   "source": [
    "# Bitwise Operator\n",
    "print(4 | 3) # Bitwise OR\n",
    "\n",
    "print(4 & 3) # Bitwise AND\n",
    "\n",
    "print(5 ^ 4) # Bitwise XOR\n",
    "\n",
    "print(6 >> 2) # Bitwise Right Shift\n",
    "\n",
    "print(5 << 1) # Bitwise Left Shift\n",
    "\n",
    "print(~2) # Bitwise Not"
   ]
  },
  {
   "cell_type": "code",
   "execution_count": 93,
   "id": "df47452e",
   "metadata": {},
   "outputs": [
    {
     "name": "stdout",
     "output_type": "stream",
     "text": [
      "6\n",
      "36\n"
     ]
    }
   ],
   "source": [
    "# Assignment Operator\n",
    "a = 2\n",
    "a = a+2\n",
    "a += 2\n",
    "print(a)\n",
    "\n",
    "a**=2\n",
    "print(a)"
   ]
  },
  {
   "cell_type": "code",
   "execution_count": 95,
   "id": "eaa57689",
   "metadata": {},
   "outputs": [
    {
     "data": {
      "text/plain": [
       "True"
      ]
     },
     "execution_count": 95,
     "metadata": {},
     "output_type": "execute_result"
    }
   ],
   "source": [
    "# Membership Operator\n",
    "'K' in 'Kolkata'"
   ]
  },
  {
   "cell_type": "code",
   "execution_count": 96,
   "id": "ec77a753",
   "metadata": {},
   "outputs": [
    {
     "data": {
      "text/plain": [
       "False"
      ]
     },
     "execution_count": 96,
     "metadata": {},
     "output_type": "execute_result"
    }
   ],
   "source": [
    "'x' in 'Kolkata'"
   ]
  },
  {
   "cell_type": "code",
   "execution_count": 97,
   "id": "05f90384",
   "metadata": {},
   "outputs": [
    {
     "data": {
      "text/plain": [
       "True"
      ]
     },
     "execution_count": 97,
     "metadata": {},
     "output_type": "execute_result"
    }
   ],
   "source": [
    "1 in [1,2,3,4,5]"
   ]
  },
  {
   "cell_type": "code",
   "execution_count": 98,
   "id": "4872fc6d",
   "metadata": {},
   "outputs": [
    {
     "data": {
      "text/plain": [
       "False"
      ]
     },
     "execution_count": 98,
     "metadata": {},
     "output_type": "execute_result"
    }
   ],
   "source": [
    "1 not in [1,2,3,4,5]"
   ]
  },
  {
   "cell_type": "code",
   "execution_count": null,
   "id": "685de32a",
   "metadata": {},
   "outputs": [],
   "source": []
  }
 ],
 "metadata": {
  "kernelspec": {
   "display_name": "Python 3 (ipykernel)",
   "language": "python",
   "name": "python3"
  },
  "language_info": {
   "codemirror_mode": {
    "name": "ipython",
    "version": 3
   },
   "file_extension": ".py",
   "mimetype": "text/x-python",
   "name": "python",
   "nbconvert_exporter": "python",
   "pygments_lexer": "ipython3",
   "version": "3.9.16"
  },
  "vscode": {
   "interpreter": {
    "hash": "854ad7b50770bedaf0cab730b1aaabb765566ea98036f134b639e260bede141e"
   }
  }
 },
 "nbformat": 4,
 "nbformat_minor": 5
}
