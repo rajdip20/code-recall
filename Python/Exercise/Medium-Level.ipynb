{
 "cells": [
  {
   "cell_type": "markdown",
   "id": "c0d0b559",
   "metadata": {},
   "source": [
    "# 1. [Write a function](https://www.hackerrank.com/challenges/write-a-function/problem?isFullScreen=true)\n",
    "\n",
    "An extra day is added to the calendar almost every four years as February 29, and the day is called a leap day. It corrects the calendar for the fact that our planet takes approximately 365.25 days to orbit the sun. A leap year contains a leap day.\n",
    "\n",
    "In the Gregorian calendar, three conditions are used to identify leap years:\n",
    "* The year can be evenly divided by 4, is a leap year, unless:\n",
    "    * The year can be evenly divided by 100, it is NOT a leap year, unless:\n",
    "        * The year is also evenly divisible by 400. Then it is a leap year.\n",
    "        \n",
    "This means that in the Gregorian calendar, the years 2000 and 2400 are leap years, while 1800, 1900, 2100, 2200, 2300 and 2500 are NOT leap years.\n",
    "\n",
    "**Task**<br>\n",
    "Given a year, determine whether it is a leap year. If it is a leap year, return the Boolean True, otherwise return False.\n",
    "\n",
    "Note that the code stub provided reads from STDIN and passes arguments to the is_leap function. It is only necessary to complete the is_leap function.\n",
    "\n",
    "**Input Format**<br>\n",
    "Read **year**, the year to test.\n",
    "\n",
    "**Constraints**<br>\n",
    "* **1900 <= year <= 10<sup>5</sup>**\n",
    "\n",
    "**Output Format**<br>\n",
    "The function must return a Boolean value (True/False). Output is handled by the provided code stub.\n",
    "\n",
    "**Sample Input 0**<br>\n",
    "1990\n",
    "\n",
    "**Sample Output 0**<br>\n",
    "False\n",
    "\n",
    "**Explanation 0**<br>\n",
    "1990 is not a multiple of 4 hence it's not a leap year."
   ]
  },
  {
   "cell_type": "code",
   "execution_count": 1,
   "id": "97152455",
   "metadata": {},
   "outputs": [
    {
     "name": "stdout",
     "output_type": "stream",
     "text": [
      "1990\n",
      "False\n"
     ]
    }
   ],
   "source": [
    "def is_leap(year):\n",
    "    leap = False\n",
    "    \n",
    "    if year % 4 == 0:\n",
    "        if year % 100 == 0 and year % 400 != 0:\n",
    "            leap = False\n",
    "        else:\n",
    "            leap = True\n",
    "    return leap\n",
    "\n",
    "year = int(input())\n",
    "print(is_leap(year))"
   ]
  },
  {
   "cell_type": "markdown",
   "id": "25ab2122",
   "metadata": {},
   "source": [
    "# 2. [Find Angle MBC](https://www.hackerrank.com/challenges/find-angle/problem?h_r=profile&isFullScreen=true)\n",
    "\n",
    "<img src='https://s3.amazonaws.com/hr-challenge-images/9668/1440151155-10b2b748ee-rsz_1438840048-2cf71ed69d-findangle.png'>\n",
    "**ABC** is a right triangle, **90°** at **B**.<br>\n",
    "Therefore, **∠ABC = 90°**.\n",
    "\n",
    "Point **M** is the midpoint of hypotenuse **AC**.\n",
    "\n",
    "You are given the lengths **AB** and **BC**.<br>\n",
    "Your task is to find **∠MBC** (angle **θ°**, as shown in the figure) in degrees.\n",
    "\n",
    "**Input Format**\n",
    "\n",
    "The first line contains the length of side **AB**.<br>\n",
    "The second line contains the length of side **BC**.\n",
    "\n",
    "**Constraints**\n",
    "* **0 < AB ≤ 100**\n",
    "* **0 < BC ≤ 100**\n",
    "* Lengths **AB** and **BC** are natural numbers.\n",
    "\n",
    "**Output Format**\n",
    "\n",
    "Output **∠MBC** in degrees.<br>\n",
    "**Note:** Round the angle to the nearest integer.\n",
    "\n",
    "**Examples:**<br>\n",
    "If angle is 56.5000001°, then output **57°**.<br>\n",
    "If angle is 56.5000000°, then output **57°**.<br>\n",
    "If angle is 56.4999999°, then output **56°**.<br>\n",
    "**0° < θ° < 90°**\n",
    "\n",
    "**Sample Input**<br>\n",
    "`10`<br>\n",
    "`10`\n",
    "\n",
    "**Sample Output**<br>\n",
    "`45°`"
   ]
  },
  {
   "cell_type": "code",
   "execution_count": 1,
   "id": "8f290784",
   "metadata": {},
   "outputs": [
    {
     "name": "stdout",
     "output_type": "stream",
     "text": [
      "10\n",
      "10\n",
      "45°\n"
     ]
    }
   ],
   "source": [
    "import math\n",
    "\n",
    "ab = int(input())\n",
    "bc = int(input())\n",
    "\n",
    "angle = round(math.degrees(math.atan(ab/bc)))\n",
    "print(f\"{angle}\\N{DEGREE SIGN}\")"
   ]
  },
  {
   "cell_type": "code",
   "execution_count": null,
   "id": "369cc02c",
   "metadata": {},
   "outputs": [],
   "source": []
  }
 ],
 "metadata": {
  "kernelspec": {
   "display_name": "Python 3 (ipykernel)",
   "language": "python",
   "name": "python3"
  },
  "language_info": {
   "codemirror_mode": {
    "name": "ipython",
    "version": 3
   },
   "file_extension": ".py",
   "mimetype": "text/x-python",
   "name": "python",
   "nbconvert_exporter": "python",
   "pygments_lexer": "ipython3",
   "version": "3.9.16"
  }
 },
 "nbformat": 4,
 "nbformat_minor": 5
}
