{
 "cells": [
  {
   "cell_type": "markdown",
   "id": "754f5e67",
   "metadata": {},
   "source": [
    "# 1. [Say \"Hello, World!\" With Python](https://www.hackerrank.com/challenges/py-hello-world/problem?isFullScreen=true)\n",
    "\n",
    "Here is a sample line of code that can be executed in Python:<br>\n",
    "    <p>&emsp;print(\"Hello, World!\")</p>\n",
    "\n",
    "You can just as easily store a string as a variable and then print it to stdout:<br>\n",
    " <p>&emsp;my_string = \"Hello, World!\"<br>\n",
    "    &emsp;print(my_string) </p>\n",
    "\n",
    "The above code will print Hello, World! on your screen. Try it yourself in the editor below!\n",
    "\n",
    "**Input Format**\n",
    "\n",
    "You do not need to read any input in this challenge.\n",
    "\n",
    "**Output Format**\n",
    "\n",
    "Print Hello, World! to stdout.\n",
    "\n",
    "**Sample Output 0**\n",
    "\n",
    "Hello, World!"
   ]
  },
  {
   "cell_type": "code",
   "execution_count": 1,
   "id": "ed01a490",
   "metadata": {},
   "outputs": [
    {
     "name": "stdout",
     "output_type": "stream",
     "text": [
      "Hello, World!\n"
     ]
    }
   ],
   "source": [
    "print(\"Hello, World!\")"
   ]
  },
  {
   "cell_type": "markdown",
   "id": "18c6bce3",
   "metadata": {},
   "source": [
    "# 2. [Python If-Else](https://www.hackerrank.com/challenges/py-if-else/problem?isFullScreen=true)\n",
    "\n",
    "**Task**<br>\n",
    "Given an integer, *n*, perform the following conditional actions:\n",
    "* If *n* is odd, print Weird\n",
    "* If *n* is even and in the inclusive range of **2** to **5**, print Not Weird\n",
    "* If *n* is even and in the inclusive range of **6** to **20**, print Weird\n",
    "* If *n* is even and greater than **20**, print Not Weird\n",
    "\n",
    "**Input Format**\n",
    "\n",
    "A single line containing a positive integer, .\n",
    "\n",
    "**Constraints**\n",
    "* **1 <= n <= 100**\n",
    "\n",
    "**Output Format**\n",
    "\n",
    "Print Weird if the number is weird. Otherwise, print Not Weird.\n",
    "\n",
    "**Sample Input 0**<br>\n",
    "3\n",
    "\n",
    "**Sample Output 0**<br>\n",
    "Weird\n",
    "\n",
    "**Explanation 0**<br>\n",
    "*n* = **3**\n",
    "\n",
    "*n* is odd and odd numbers are weird, so print Weird.\n",
    "\n",
    "**Sample Input 1**<br>\n",
    "24\n",
    "\n",
    "**Sample Output 1**<br>\n",
    "Not Weird\n",
    "\n",
    "**Explanation 1**<br>\n",
    "*n* = **24**\n",
    "\n",
    "*n* > **20** and *n* is even, so it is not weird."
   ]
  },
  {
   "cell_type": "code",
   "execution_count": 2,
   "id": "7aa149b4",
   "metadata": {},
   "outputs": [
    {
     "name": "stdout",
     "output_type": "stream",
     "text": [
      "24\n",
      "Not Weird\n"
     ]
    }
   ],
   "source": [
    "n = int(input().strip())\n",
    "if n%2==0 and n>20:\n",
    "    print(\"Not Weird\")\n",
    "elif n%2==0 and (n>=6 and n<=20):\n",
    "    print(\"Weird\")\n",
    "elif n%2==0 and (n>=2 and n<=5):\n",
    "    print(\"Not Weird\")\n",
    "else:\n",
    "    print(\"Weird\")"
   ]
  },
  {
   "cell_type": "markdown",
   "id": "b63f0ed3",
   "metadata": {},
   "source": [
    "# 3. [Arithmetic Operators](https://www.hackerrank.com/challenges/python-arithmetic-operators/problem?isFullScreen=true)\n",
    "\n",
    "**Task**<br>\n",
    "The provided code stub reads two integers from STDIN,  and . Add code to print three lines where:\n",
    "1. The first line contains the sum of the two numbers.\n",
    "2. The second line contains the difference of the two numbers (first - second).\n",
    "3. The third line contains the product of the two numbers.\n",
    "\n",
    "**Example**<br>\n",
    "*a* = 3<br>\n",
    "*b* = 5<br>\n",
    "\n",
    "Print the following:<br>\n",
    "8<br>\n",
    "-2<br>\n",
    "15<br>\n",
    "\n",
    "**Input Format**<br>\n",
    "The first line contains the first integer, *a*.<br>\n",
    "The second line contains the second integer, *b*.\n",
    "\n",
    "**Constraints**\n",
    "* 1 <= a <= 10<sup>10</sup>\n",
    "* 1 <= b <= 10<sup>10</sup>\n",
    "\n",
    "**Output Format**<br>\n",
    "Print the three lines as explained above.\n",
    "\n",
    "**Sample Input 0**<br>\n",
    "3<br>\n",
    "2\n",
    "\n",
    "**Sample Output 0**<br>\n",
    "5<br>\n",
    "1<br>\n",
    "6\n",
    "\n",
    "**Explanation 0**<br>\n",
    "**3+2 => 5**<br>\n",
    "**3-2 => 1**<br>\n",
    "**3*2 => 6**<br>"
   ]
  },
  {
   "cell_type": "code",
   "execution_count": 3,
   "id": "cb5015be",
   "metadata": {},
   "outputs": [
    {
     "name": "stdout",
     "output_type": "stream",
     "text": [
      "3\n",
      "2\n",
      "5\n",
      "1\n",
      "6\n"
     ]
    }
   ],
   "source": [
    "a = int(input())\n",
    "b = int(input())\n",
    "print(a+b)\n",
    "print(a-b)\n",
    "print(a*b)"
   ]
  },
  {
   "cell_type": "markdown",
   "id": "a416f462",
   "metadata": {},
   "source": [
    "# 4. [Python: Division](https://www.hackerrank.com/challenges/python-division/problem?isFullScreen=true)\n",
    "\n",
    "**Task**<br>\n",
    "The provided code stub reads two integers, *a* and *b*, from STDIN.\n",
    "\n",
    "Add logic to print two lines. The first line should contain the result of integer division, *a* // *b*. The second line should contain the result of float division, *a* / *b*.\n",
    "\n",
    "No rounding or formatting is necessary.\n",
    "\n",
    "**Example**<br>\n",
    "**a = 3**<br>\n",
    "**b = 5**\n",
    "\n",
    "* The result of the integer division **3//5=0**.\n",
    "* The result of the float division is **3/5=0.6**.\n",
    "\n",
    "Print:<br>\n",
    "0<br>\n",
    "0.6\n",
    "\n",
    "**Input Format**<br>\n",
    "The first line contains the first integer, **a**.<br>\n",
    "The second line contains the second integer, **b**.\n",
    "\n",
    "**Output Format**<br>\n",
    "Print the two lines as described above.\n",
    "\n",
    "**Sample Input 0**<br>\n",
    "4<br>\n",
    "3\n",
    "\n",
    "**Sample Output 0**<br>\n",
    "1<br>\n",
    "1.33333333333"
   ]
  },
  {
   "cell_type": "code",
   "execution_count": 4,
   "id": "87e17a1b",
   "metadata": {},
   "outputs": [
    {
     "name": "stdout",
     "output_type": "stream",
     "text": [
      "4\n",
      "3\n",
      "1\n",
      "1.3333333333333333\n"
     ]
    }
   ],
   "source": [
    "a = int(input())\n",
    "b = int(input())\n",
    "print(a//b)\n",
    "print(a/b)"
   ]
  },
  {
   "cell_type": "markdown",
   "id": "a38266ac",
   "metadata": {},
   "source": [
    "# 5. [Loops](https://www.hackerrank.com/challenges/python-loops/problem?isFullScreen=true)\n",
    "\n",
    "**Task**<br>\n",
    "\n",
    "The provided code stub reads and integer, **n**, from STDIN. For all non-negative integers **i < n, print i<sup>2</sup>**.\n",
    "\n",
    "**Example**<br>\n",
    "*n = 3*\n",
    "\n",
    "The list of non-negative integers that are less than *n = 3* is [0, 1, 2]. Print the square of each number on a separate line.\n",
    "\n",
    "0<br>\n",
    "1<br>\n",
    "4\n",
    "\n",
    "**Input Format**<br>\n",
    "The first and only line contains the integer, *n*.\n",
    "\n",
    "**Constraints**<br>\n",
    "*1 <= n <= 20*\n",
    "\n",
    "**Output Format**<br>\n",
    "Print *n* lines, one corresponding to each *i*.\n",
    "\n",
    "**Sample Input 0**<br>\n",
    "5\n",
    "\n",
    "**Sample Output 0**\n",
    "0<br>\n",
    "1<br>\n",
    "4<br>\n",
    "9<br>\n",
    "16"
   ]
  },
  {
   "cell_type": "code",
   "execution_count": 6,
   "id": "7d070d46",
   "metadata": {},
   "outputs": [
    {
     "name": "stdout",
     "output_type": "stream",
     "text": [
      "5\n",
      "0\n",
      "1\n",
      "4\n",
      "9\n",
      "16\n"
     ]
    }
   ],
   "source": [
    "n = int(input())\n",
    "i = 0\n",
    "while n>0:\n",
    "    print(i*i)\n",
    "    i = i+1\n",
    "    n = n-1"
   ]
  },
  {
   "cell_type": "markdown",
   "id": "c5b0a791",
   "metadata": {},
   "source": [
    "# 6. [Print Function](https://www.hackerrank.com/challenges/python-print/problem?isFullScreen=true)\n",
    "\n",
    "The included code stub will read an integer, *n*, from STDIN.\n",
    "\n",
    "Without using any string methods, try to print the following:<br>\n",
    "**123...n**\n",
    "\n",
    "Note that **\"...\"** represents the consecutive values in between.\n",
    "\n",
    "**Example**<br>\n",
    "**n = 5**<br>\n",
    "Print the string **12345**.\n",
    "\n",
    "**Input Format**<br>\n",
    "The first line contains an integer **n**.\n",
    "\n",
    "**Constraints**<br>\n",
    "**1 <= n <= 150**\n",
    "\n",
    "**Output Format**<br>\n",
    "Print the list of integers from **1** through **n** as a string, without spaces.\n",
    "\n",
    "**Sample Input 0**<br>\n",
    "**3**\n",
    "\n",
    "**Sample Output 0**<br>\n",
    "**123**"
   ]
  },
  {
   "cell_type": "code",
   "execution_count": 7,
   "id": "7038c71b",
   "metadata": {},
   "outputs": [
    {
     "name": "stdout",
     "output_type": "stream",
     "text": [
      "5\n",
      "12345"
     ]
    }
   ],
   "source": [
    "n = int(input())\n",
    "i = 1\n",
    "while n>0:\n",
    "    print(str(i),end=\"\")\n",
    "    i = i+1\n",
    "    n = n-1"
   ]
  },
  {
   "cell_type": "markdown",
   "id": "5cac4165",
   "metadata": {},
   "source": [
    "# 7. [List Comprehensions](https://www.hackerrank.com/challenges/list-comprehensions/problem?isFullScreen=true)\n",
    "\n",
    "Let's learn about list comprehensions! You are given three integers *x, y* and *z* representing the dimensions of a cuboid along with an integer *n*. Print a list of all possible coordinates given by *(i, j, k)* on a 3D grid where the sum of *i + j + k* is not equal to *n*. Here, **0 <= i <= x; 0 <= j <= y; 0 <= k <= z**. Please use list comprehensions rather than multiple loops, as a learning exercise.\n",
    "\n",
    "**Example**<br>\n",
    "*x = 1*<br>\n",
    "*y = 1*<br>\n",
    "*z = 2*<br>\n",
    "*n = 3*\n",
    "\n",
    "All permutations of *[i, j, k]* are:<br>\n",
    "[[0,0,0],[0,0,1],[0,0,2],[0,1,0],[0,1,1],[0,1,2],[1,0,0],[1,0,1],[1,0,2],[1,1,0],[1,1,1],[1,1,2]]\n",
    "\n",
    "Print an array of the elements that do not sum to *n=3*.<br>\n",
    "[[0,0,0],[0,0,1],[0,0,2],[0,1,0],[0,1,1],[1,0,0],[1,0,1],[1,1,0],[1,1,2]]\n",
    "\n",
    "**Input Format**<br>\n",
    "Four integers *x,y,z* and *n*, each on a separate line.\n",
    "\n",
    "**Constraints**<br>\n",
    "Print the list in lexicographic increasing order.\n",
    "\n",
    "**Sample Input 0**<br>\n",
    "1<br>\n",
    "1<br>\n",
    "1<br>\n",
    "2\n",
    "\n",
    "**Sample Output 0**<br>\n",
    "[[0,0,0],[0,0,1],[0,1,0],[1,0,0],[1,1,1]]\n",
    "\n",
    "**Explanation 0**<br>\n",
    "Each variable  and  will have values of **0** or **1**. All permutations of lists in the form<br>\n",
    "[i,j,k] = [[0,0,0],[0,0,1],[0,1,0],[0,1,1],[1,0,0],[1,0,1],[1,1,0],[1,1,1]].<br>\n",
    "Remove all arrays that sum to **n=2** to leave only the valid permutations.\n",
    "\n",
    "**Sample Input 1**<br>\n",
    "2<br>\n",
    "2<br>\n",
    "2<br>\n",
    "2\n",
    "\n",
    "**Sample Output 1**<br>\n",
    "[[0,0,0],[0,0,1],[0,1,0],[0,1,2],[0,2,1],[0,2,2],[1,0,0],[1,0,2],[1,1,1],[1,1,2],[1,2,0],[1,2,1],[1,2,2],[2,0,1],[2,0,2],[2,1,0],[2,1,1],[2,1,2],[2,2,0],[2,2,1],[2,2,2]]"
   ]
  },
  {
   "cell_type": "code",
   "execution_count": 8,
   "id": "dc406d58",
   "metadata": {},
   "outputs": [
    {
     "name": "stdout",
     "output_type": "stream",
     "text": [
      "1\n",
      "1\n",
      "1\n",
      "2\n",
      "[[0, 0, 0], [0, 0, 1], [0, 1, 0], [1, 0, 0], [1, 1, 1]]\n"
     ]
    }
   ],
   "source": [
    "x = int(input())\n",
    "y = int(input())\n",
    "z = int(input())\n",
    "n = int(input())\n",
    "print(list([i,j,k] for i in range(x+1) for j in range(y+1) for k in range(z+1) if i+j+k !=n))"
   ]
  },
  {
   "cell_type": "markdown",
   "id": "b1f35347",
   "metadata": {},
   "source": [
    "# 8. [Find the Runner-Up Score!](https://www.hackerrank.com/challenges/find-second-maximum-number-in-a-list/problem?isFullScreen=true)\n",
    "\n",
    "Given the participants' score sheet for your University Sports Day, you are required to find the runner-up score. You are given *n* scores. Store them in a list and find the score of the runner-up.\n",
    "\n",
    "**Input Format**<br>\n",
    "The first line contains *n*. The second line contains an array *A*[ ] of *n* integers each separated by a space.\n",
    "\n",
    "**Constraints**<br>\n",
    "* **2 <= n <= 10**\n",
    "* **-100 <= A[i] <= 100**\n",
    "\n",
    "**Output Format**<br>\n",
    "Print the runner-up score.\n",
    "\n",
    "**Sample Input 0**<br>\n",
    "5<br>\n",
    "2 3 6 6 5\n",
    "\n",
    "**Sample Output 0**<br>\n",
    "5<br>\n",
    "\n",
    "**Explanation 0**<br>\n",
    "Given list is **[2,3,6,6,5]**. The maximum score is **6**, second maximum is **5**. Hence, we print **5** as the runner-up score."
   ]
  },
  {
   "cell_type": "code",
   "execution_count": 9,
   "id": "d7839e51",
   "metadata": {},
   "outputs": [
    {
     "name": "stdout",
     "output_type": "stream",
     "text": [
      "5\n",
      "2 3 6 6 5\n",
      "5\n"
     ]
    }
   ],
   "source": [
    "n = int(input())\n",
    "arr = map(int, input().split())\n",
    "arr = list(arr)\n",
    "x = max(arr)\n",
    "y = -100\n",
    "for i in range(0,n):\n",
    "    if arr[i]<x and arr[i] > y:\n",
    "        y = arr[i]\n",
    "\n",
    "print(y)"
   ]
  },
  {
   "cell_type": "markdown",
   "id": "8a0242e3",
   "metadata": {},
   "source": [
    "# 9. [Finding the percentage](https://www.hackerrank.com/challenges/finding-the-percentage/problem?isFullScreen=true)\n",
    "\n",
    "The provided code stub will read in a dictionary containing key/value pairs of name:[marks] for a list of students. Print the average of the marks array for the student name provided, showing 2 places after the decimal.\n",
    "\n",
    "**Example**<br>\n",
    "marks key:value pairs are<br>\n",
    "'alpha': [20,30,40]<br>\n",
    "'beta': [30,50,70]<br>\n",
    "query_name = 'beta'\n",
    "\n",
    "The **query_name is** 'beta'. beta's average score is **(30 + 50 + 70)/3 = 50.0**.\n",
    "\n",
    "**Input Format**<br>\n",
    "The first line contains the integer **n**, the number of students' records. The next **n** lines contain the names and marks obtained by a student, each value separated by a space. The final line contains **query_name**, the name of a student to query.\n",
    "\n",
    "**Constraints**<br>\n",
    "* **2 <= n <= 10**\n",
    "* **0 <= marks[i] <= 100**\n",
    "* length of marks arrays = 3\n",
    "\n",
    "**Output Format**<br>\n",
    "Print one line: The average of the marks obtained by the particular student correct to 2 decimal places.\n",
    "\n",
    "**Sample Input 0**<br>\n",
    "3<br>\n",
    "Krishna 67 68 69<br>\n",
    "Arjun 70 98 63<br>\n",
    "Malika 52 56 60<br>\n",
    "Malika\n",
    "\n",
    "**Sample Output 0**<br>\n",
    "56.00\n",
    "\n",
    "**Explanation 0**<br>\n",
    "Marks for Malika are **{52,56,60}** whose average is **(52+56+60)/3 => 56**\n",
    "\n",
    "**Sample Input 1**<br>\n",
    "2<br>\n",
    "Harsh 25 26.5 28<br>\n",
    "Anurag 26 28 30<br>\n",
    "Harsh\n",
    "\n",
    "**Sample Output 1**<br>\n",
    "26.50"
   ]
  },
  {
   "cell_type": "code",
   "execution_count": 10,
   "id": "bd9d4d06",
   "metadata": {},
   "outputs": [
    {
     "name": "stdout",
     "output_type": "stream",
     "text": [
      "2\n",
      "Harsh 25 26.5 28\n",
      "Anurag 26 28 30\n",
      "Harsh\n",
      "26.50\n"
     ]
    }
   ],
   "source": [
    "n = int(input())\n",
    "student_marks = {}\n",
    "for _ in range(n):\n",
    "    name, *line = input().split()\n",
    "    scores = list(map(float, line))\n",
    "    student_marks[name] = scores\n",
    "query_name = input()\n",
    "x = 0\n",
    "for i in student_marks[query_name]:\n",
    "    x = x+i\n",
    "ans = x/3\n",
    "print(\"{:.2f}\".format(ans))"
   ]
  },
  {
   "cell_type": "markdown",
   "id": "a1940012",
   "metadata": {},
   "source": [
    "# 10. [What's Your Name?](https://www.hackerrank.com/challenges/whats-your-name/problem?isFullScreen=true)\n",
    "\n",
    "You are given the firstname and lastname of a person on two different lines. Your task is to read them and print the following:\n",
    "\n",
    "Hello firstname lastname! You just delved into python.\n",
    "\n",
    "**Function Description**<br>\n",
    "Complete the print_full_name function in the editor below.<br>\n",
    "print_full_name has the following parameters:\n",
    "* string first: the first name\n",
    "* string last: the last name\n",
    "\n",
    "**Prints**<br>\n",
    "* string: 'Hello **firstname lastname**! You just delved into python' where **firstname** and **lastname** are replaced with **first** and **last**.\n",
    "\n",
    "**Input Format**<br>\n",
    "The first line contains the first name, and the second line contains the last name.\n",
    "\n",
    "**Constraints**<br>\n",
    "The length of the first and last names are each ≤ **10**.\n",
    "\n",
    "**Sample Input 0**<br>\n",
    "Ross<br>\n",
    "Taylor<br>\n",
    "\n",
    "**Sample Output 0**<br>\n",
    "Hello Ross Taylor! You just delved into python.\n",
    "\n",
    "**Explanation 0**<br>\n",
    "The input read by the program is stored as a string data type. A string is a collection of characters."
   ]
  },
  {
   "cell_type": "code",
   "execution_count": 11,
   "id": "90d85211",
   "metadata": {},
   "outputs": [
    {
     "name": "stdout",
     "output_type": "stream",
     "text": [
      "Ross\n",
      "Taylor\n",
      "Hello Ross Taylor! You just delved into python.\n"
     ]
    }
   ],
   "source": [
    "def print_full_name(first, last):\n",
    "    print(\"Hello {x} {y}! You just delved into python.\".format(x=first,y=last))\n",
    "\n",
    "first_name = input()\n",
    "last_name = input()\n",
    "print_full_name(first_name, last_name)"
   ]
  },
  {
   "cell_type": "code",
   "execution_count": null,
   "id": "f427de08",
   "metadata": {},
   "outputs": [],
   "source": []
  }
 ],
 "metadata": {
  "kernelspec": {
   "display_name": "Python 3 (ipykernel)",
   "language": "python",
   "name": "python3"
  },
  "language_info": {
   "codemirror_mode": {
    "name": "ipython",
    "version": 3
   },
   "file_extension": ".py",
   "mimetype": "text/x-python",
   "name": "python",
   "nbconvert_exporter": "python",
   "pygments_lexer": "ipython3",
   "version": "3.9.16"
  }
 },
 "nbformat": 4,
 "nbformat_minor": 5
}
